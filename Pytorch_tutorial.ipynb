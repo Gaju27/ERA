{
  "nbformat": 4,
  "nbformat_minor": 0,
  "metadata": {
    "colab": {
      "provenance": [],
      "toc_visible": true,
      "gpuType": "T4",
      "authorship_tag": "ABX9TyNF3GpVi0fssmeJSzcSnCAd"
    },
    "kernelspec": {
      "name": "python3",
      "display_name": "Python 3"
    },
    "language_info": {
      "name": "python"
    },
    "accelerator": "GPU"
  },
  "cells": [
    {
      "cell_type": "code",
      "execution_count": null,
      "metadata": {
        "id": "56yXfZvNGwXU"
      },
      "outputs": [],
      "source": [
        "import torch"
      ]
    },
    {
      "cell_type": "code",
      "source": [
        "print(\"Torch version\", torch.__version__)"
      ],
      "metadata": {
        "colab": {
          "base_uri": "https://localhost:8080/"
        },
        "id": "FJzb2M5LHu-5",
        "outputId": "2d091397-55d3-47e6-ccb4-72ab3d4a9852"
      },
      "execution_count": null,
      "outputs": [
        {
          "output_type": "stream",
          "name": "stdout",
          "text": [
            "Torch version 2.8.0+cu126\n"
          ]
        }
      ]
    },
    {
      "cell_type": "code",
      "source": [
        "print(\"Cuda\",torch.cuda.is_available())"
      ],
      "metadata": {
        "colab": {
          "base_uri": "https://localhost:8080/"
        },
        "id": "GeTbTbVNHzhZ",
        "outputId": "d0e1c273-d519-42d4-9666-566486988082"
      },
      "execution_count": null,
      "outputs": [
        {
          "output_type": "stream",
          "name": "stdout",
          "text": [
            "Cuda True\n"
          ]
        }
      ]
    },
    {
      "cell_type": "code",
      "source": [
        "# print(\"Device\", torch.device())"
      ],
      "metadata": {
        "id": "D23649H0H-xB"
      },
      "execution_count": null,
      "outputs": []
    },
    {
      "cell_type": "code",
      "source": [
        "print(\"Device\",torch.device(\"cuda\" if torch.cuda.is_available() else \"cpu\"))"
      ],
      "metadata": {
        "colab": {
          "base_uri": "https://localhost:8080/"
        },
        "id": "_KDFtfMWIW3x",
        "outputId": "57932a7e-e8d1-404b-f451-b4cfb086026a"
      },
      "execution_count": null,
      "outputs": [
        {
          "output_type": "stream",
          "name": "stdout",
          "text": [
            "Device cuda\n"
          ]
        }
      ]
    },
    {
      "cell_type": "code",
      "source": [
        "import torch\n",
        "a = torch.tensor([[1,2],[3,4]],dtype=torch.float32)\n",
        "b = torch.ones((2,2))"
      ],
      "metadata": {
        "id": "90UoyWRWIiWX"
      },
      "execution_count": null,
      "outputs": []
    },
    {
      "cell_type": "code",
      "source": [
        "print(\"Tensor a\",a)"
      ],
      "metadata": {
        "colab": {
          "base_uri": "https://localhost:8080/"
        },
        "id": "IyAT1vAtI0Fm",
        "outputId": "83637fd0-9742-4510-d577-10de92c6f58d"
      },
      "execution_count": null,
      "outputs": [
        {
          "output_type": "stream",
          "name": "stdout",
          "text": [
            "Tensor a tensor([[1., 2.],\n",
            "        [3., 4.]])\n"
          ]
        }
      ]
    },
    {
      "cell_type": "code",
      "source": [
        "print(b)"
      ],
      "metadata": {
        "colab": {
          "base_uri": "https://localhost:8080/"
        },
        "id": "IMT4Tk5HI3IR",
        "outputId": "db3bc01c-b520-4d36-ad22-9e22623c5a4d"
      },
      "execution_count": null,
      "outputs": [
        {
          "output_type": "stream",
          "name": "stdout",
          "text": [
            "tensor([[1., 1.],\n",
            "        [1., 1.]])\n"
          ]
        }
      ]
    },
    {
      "cell_type": "code",
      "source": [
        "print(\"a+b \\n\",a+b)"
      ],
      "metadata": {
        "colab": {
          "base_uri": "https://localhost:8080/"
        },
        "id": "txLqDI9UI542",
        "outputId": "f0f4a920-a42c-43dc-bf13-d6c87005d7dc"
      },
      "execution_count": null,
      "outputs": [
        {
          "output_type": "stream",
          "name": "stdout",
          "text": [
            "a+b \n",
            " tensor([[2., 3.],\n",
            "        [4., 5.]])\n"
          ]
        }
      ]
    },
    {
      "cell_type": "code",
      "source": [
        "print(\"a X b\\n\",a*b)"
      ],
      "metadata": {
        "colab": {
          "base_uri": "https://localhost:8080/"
        },
        "id": "YMYxifZJI-yO",
        "outputId": "1a51d8b6-0709-400d-acdc-572b8266d776"
      },
      "execution_count": null,
      "outputs": [
        {
          "output_type": "stream",
          "name": "stdout",
          "text": [
            "a X b\n",
            " tensor([[1., 2.],\n",
            "        [3., 4.]])\n"
          ]
        }
      ]
    },
    {
      "cell_type": "code",
      "source": [
        "print(\"Flattened:\\n\", a.view(-1))"
      ],
      "metadata": {
        "colab": {
          "base_uri": "https://localhost:8080/"
        },
        "id": "fmES7Nt0JE6y",
        "outputId": "7279ceac-ce39-47c7-bec8-d3fcc968a8af"
      },
      "execution_count": null,
      "outputs": [
        {
          "output_type": "stream",
          "name": "stdout",
          "text": [
            "Flattened:\n",
            " tensor([1., 2., 3., 4.])\n"
          ]
        }
      ]
    },
    {
      "cell_type": "code",
      "source": [
        "if torch.cuda.is_available():\n",
        "  a = a.to(\"cuda\")\n",
        "  print(\"Moved to GPU:\",a.device)"
      ],
      "metadata": {
        "colab": {
          "base_uri": "https://localhost:8080/"
        },
        "id": "7TneZ4U-iAUb",
        "outputId": "bc9a1d52-58ea-455d-f8da-0b3fd8675782"
      },
      "execution_count": null,
      "outputs": [
        {
          "output_type": "stream",
          "name": "stdout",
          "text": [
            "Moved to GPU: cuda:0\n"
          ]
        }
      ]
    },
    {
      "cell_type": "code",
      "source": [
        "x = torch.tensor(2.0, requires_grad=True)\n",
        "y = x**3 + 4*x**2 + 5\n",
        "y.backward()\n",
        "print(\"dy/dx at x=2:\", x.grad)"
      ],
      "metadata": {
        "colab": {
          "base_uri": "https://localhost:8080/"
        },
        "id": "Q7Fg29YsiT7F",
        "outputId": "c37a60a1-6cb1-4c34-c7b0-8cfdb84cf8d2"
      },
      "execution_count": null,
      "outputs": [
        {
          "output_type": "stream",
          "name": "stdout",
          "text": [
            "dy/dx at x=2: tensor(28.)\n"
          ]
        }
      ]
    },
    {
      "cell_type": "code",
      "source": [
        "x = torch.tensor(5.0, requires_grad=True)"
      ],
      "metadata": {
        "id": "7pZs3pnxiqNS"
      },
      "execution_count": null,
      "outputs": []
    },
    {
      "cell_type": "code",
      "source": [
        "x"
      ],
      "metadata": {
        "colab": {
          "base_uri": "https://localhost:8080/"
        },
        "id": "NouuTewgkTBM",
        "outputId": "6a246d87-3793-4bae-b7c5-7ee7c4d41091"
      },
      "execution_count": null,
      "outputs": [
        {
          "output_type": "execute_result",
          "data": {
            "text/plain": [
              "tensor(5., requires_grad=True)"
            ]
          },
          "metadata": {},
          "execution_count": 15
        }
      ]
    },
    {
      "cell_type": "code",
      "source": [
        "print(x.grad)"
      ],
      "metadata": {
        "colab": {
          "base_uri": "https://localhost:8080/"
        },
        "id": "0SNWy6CxkVjt",
        "outputId": "b7e40769-c240-408c-ff92-2d30766cb16c"
      },
      "execution_count": null,
      "outputs": [
        {
          "output_type": "stream",
          "name": "stdout",
          "text": [
            "None\n"
          ]
        }
      ]
    },
    {
      "cell_type": "code",
      "source": [
        "import torch.nn as nn\n",
        "import torch.nn.functional as F"
      ],
      "metadata": {
        "id": "g2vp-ReMkYGR"
      },
      "execution_count": null,
      "outputs": []
    },
    {
      "cell_type": "code",
      "source": [
        "import torch.nn as nn\n",
        "import torch.nn.functional as F\n",
        "\n",
        "class SimpleNet(nn.Module):\n",
        "    def __init__(self):\n",
        "        super().__init__()\n",
        "        self.fc1 = nn.Linear(28*28, 128)\n",
        "        self.fc2 = nn.Linear(128, 64)\n",
        "        self.fc3 = nn.Linear(64, 10)\n",
        "\n",
        "    def forward(self, x):\n",
        "        x = x.view(-1, 28*28)  # flatten\n",
        "        x = F.relu(self.fc1(x))\n",
        "        x = F.relu(self.fc2(x))\n",
        "        return self.fc3(x)\n"
      ],
      "metadata": {
        "id": "FDZsAdRbzbx7"
      },
      "execution_count": null,
      "outputs": []
    },
    {
      "cell_type": "code",
      "source": [
        "import torchvision\n",
        "import torchvision.transforms as transforms\n",
        "\n",
        "# Dataset\n",
        "transform = transforms.ToTensor()\n",
        "trainset = torchvision.datasets.MNIST(root=\"./data\", train=True, download=True, transform=transform)\n",
        "trainloader = torch.utils.data.DataLoader(trainset, batch_size=64, shuffle=True)\n",
        "\n",
        "# Model, loss, optimizer\n",
        "device = torch.device(\"cuda\" if torch.cuda.is_available() else \"cpu\")\n",
        "model = SimpleNet().to(device)\n",
        "criterion = nn.CrossEntropyLoss()\n",
        "optimizer = torch.optim.Adam(model.parameters(), lr=0.001)\n",
        "\n",
        "# Training loop\n",
        "for epoch in range(10):  # try 1 epoch first\n",
        "    for images, labels in trainloader:\n",
        "        images, labels = images.to(device), labels.to(device)\n",
        "\n",
        "        outputs = model(images)\n",
        "        loss = criterion(outputs, labels)\n",
        "\n",
        "        optimizer.zero_grad()\n",
        "        loss.backward()\n",
        "        optimizer.step()\n",
        "\n",
        "    print(f\"Epoch {epoch+1}, Loss: {loss.item():.4f}\")\n"
      ],
      "metadata": {
        "colab": {
          "base_uri": "https://localhost:8080/"
        },
        "id": "SuFg7Y1P0Fya",
        "outputId": "c82c6234-3e3d-4668-8ae2-89716e254f74"
      },
      "execution_count": null,
      "outputs": [
        {
          "output_type": "stream",
          "name": "stdout",
          "text": [
            "Epoch 1, Loss: 0.0901\n",
            "Epoch 2, Loss: 0.0873\n",
            "Epoch 3, Loss: 0.1474\n",
            "Epoch 4, Loss: 0.0175\n",
            "Epoch 5, Loss: 0.0071\n",
            "Epoch 6, Loss: 0.0160\n",
            "Epoch 7, Loss: 0.0284\n",
            "Epoch 8, Loss: 0.0073\n",
            "Epoch 9, Loss: 0.0139\n",
            "Epoch 10, Loss: 0.0006\n"
          ]
        }
      ]
    },
    {
      "cell_type": "code",
      "source": [],
      "metadata": {
        "id": "F9e1gjHctz5y"
      },
      "execution_count": null,
      "outputs": []
    },
    {
      "cell_type": "markdown",
      "source": [
        "Learning simple neural network to understand.\n",
        "\n",
        "📝 Exercise: Fit y = 2x + 1\n",
        "\n",
        "data = [[0.0], [1.0], [2.0], [3.0], [4.0]]\n",
        "\n",
        "👉 Build a neural net with 1 input, 1 hidden layer (with ReLU), and 1 output that learns this mapping.\n",
        "Steps you should implement:\n",
        "\n",
        "* Task\n",
        "  * Define the network using nn.Module.\n",
        "\n",
        "    * Input → Hidden (size 1 → 4 neurons)\n",
        "\n",
        "    * Hidden → Output (size 4 → 1)\n",
        "\n",
        "    * Use ReLU activation in the hidden layer.\n",
        "\n",
        "  * Define a loss function (MSELoss) and an optimizer (SGD).\n",
        "\n",
        "  * Train for, say, 100 epochs.\n",
        "\n",
        "  * Print predictions before and after training to check learning.\n",
        "* Expected outcome\n",
        "  * Before training: predictions are random.\n",
        "  * After training: predictions should be close to the line  y = 2x + 1\n"
      ],
      "metadata": {
        "id": "FqMXc56Mtxqg"
      }
    },
    {
      "cell_type": "code",
      "source": [
        "import torch\n",
        "import torch.nn as nn\n",
        "import torch.nn.functional as F\n",
        "\n",
        "class SimpleNet(nn.Module):\n",
        "  def __init__(self):\n",
        "    super().__init__()\n",
        "    self.fc1 = nn.Linear(1,4)\n",
        "    self.fc2 = nn.Linear(4,1)\n",
        "\n",
        "  def forward(self,x):\n",
        "    h = F.relu(self.fc1(x))\n",
        "    y = self.fc2(h)\n",
        "    return y"
      ],
      "metadata": {
        "id": "SoJrLRTp1_Ns"
      },
      "execution_count": null,
      "outputs": []
    },
    {
      "cell_type": "code",
      "source": [
        "data = torch.tensor( [[0.0], [1.0], [2.0], [3.0], [4.0]])\n",
        "# t = torch.tensor([5.0]) # Correct target values for y = 2x + 1\n",
        "target = torch.tensor([[1.0], [3.0], [5.0], [7.0], [9.0]])"
      ],
      "metadata": {
        "id": "_XoQnc1LwMNl"
      },
      "execution_count": null,
      "outputs": []
    },
    {
      "cell_type": "code",
      "source": [
        "net = SimpleNet()"
      ],
      "metadata": {
        "id": "s55SEcaKwZp4"
      },
      "execution_count": null,
      "outputs": []
    },
    {
      "cell_type": "code",
      "source": [
        "criterion = nn.MSELoss()\n",
        "optimizer = torch.optim.SGD(net.parameters(), lr = 0.01)"
      ],
      "metadata": {
        "id": "HxwDlgeRwcfd"
      },
      "execution_count": null,
      "outputs": []
    },
    {
      "cell_type": "code",
      "source": [
        "for epoch in range(101):\n",
        "  optimizer.zero_grad()\n",
        "  y = 2 * net(data) + 1\n",
        "  loss = criterion(y,t)\n",
        "  loss.backward()\n",
        "  optimizer.step()\n",
        "  print(f\"Epoch {epoch+1}: y={y.item():.4f}, loss={loss.item():.4f}\")\n"
      ],
      "metadata": {
        "colab": {
          "base_uri": "https://localhost:8080/",
          "height": 176
        },
        "id": "hJgyuMJYwqc3",
        "outputId": "731304d4-c7ed-4c4a-b161-8cac29df7795"
      },
      "execution_count": null,
      "outputs": [
        {
          "output_type": "error",
          "ename": "RuntimeError",
          "evalue": "a Tensor with 5 elements cannot be converted to Scalar",
          "traceback": [
            "\u001b[0;31m---------------------------------------------------------------------------\u001b[0m",
            "\u001b[0;31mRuntimeError\u001b[0m                              Traceback (most recent call last)",
            "\u001b[0;32m/tmp/ipython-input-1318189593.py\u001b[0m in \u001b[0;36m<cell line: 0>\u001b[0;34m()\u001b[0m\n\u001b[1;32m      5\u001b[0m   \u001b[0mloss\u001b[0m\u001b[0;34m.\u001b[0m\u001b[0mbackward\u001b[0m\u001b[0;34m(\u001b[0m\u001b[0;34m)\u001b[0m\u001b[0;34m\u001b[0m\u001b[0;34m\u001b[0m\u001b[0m\n\u001b[1;32m      6\u001b[0m   \u001b[0moptimizer\u001b[0m\u001b[0;34m.\u001b[0m\u001b[0mstep\u001b[0m\u001b[0;34m(\u001b[0m\u001b[0;34m)\u001b[0m\u001b[0;34m\u001b[0m\u001b[0;34m\u001b[0m\u001b[0m\n\u001b[0;32m----> 7\u001b[0;31m   \u001b[0mprint\u001b[0m\u001b[0;34m(\u001b[0m\u001b[0;34mf\"Epoch {epoch+1}: y={y.item():.4f}, loss={loss.item():.4f}\"\u001b[0m\u001b[0;34m)\u001b[0m\u001b[0;34m\u001b[0m\u001b[0;34m\u001b[0m\u001b[0m\n\u001b[0m",
            "\u001b[0;31mRuntimeError\u001b[0m: a Tensor with 5 elements cannot be converted to Scalar"
          ]
        }
      ]
    },
    {
      "cell_type": "markdown",
      "source": [
        "I have written wrong and improvised is below.\n",
        "\n",
        "✨ So the mistake:\n",
        "\n",
        "    You applied 2*net(data)+1 inside training, which double-applied the function.\n",
        "    Instead, just let the network predict, and compare predictions to target."
      ],
      "metadata": {
        "id": "Mh5IrttCypsf"
      }
    },
    {
      "cell_type": "code",
      "source": [
        "import torch\n",
        "import torch.nn as nn\n",
        "import torch.nn.functional as F\n",
        "\n",
        "# Define the network\n",
        "class SimpleNet(nn.Module):\n",
        "    def __init__(self):\n",
        "        super().__init__()\n",
        "        self.fc1 = nn.Linear(1, 4)\n",
        "        self.fc2 = nn.Linear(4, 1)\n",
        "\n",
        "    def forward(self, x):\n",
        "        h = F.relu(self.fc1(x))\n",
        "        y = self.fc2(h)\n",
        "        return y\n",
        "\n",
        "# Data: y = 2x + 1\n",
        "data = torch.tensor([[0.0], [1.0], [2.0], [3.0], [4.0]])\n",
        "target = torch.tensor([[1.0], [3.0], [5.0], [7.0], [9.0]])\n",
        "\n",
        "# Model, loss, optimizer\n",
        "net = SimpleNet()\n",
        "criterion = nn.MSELoss()\n",
        "optimizer = torch.optim.SGD(net.parameters(), lr=0.01)\n",
        "\n",
        "# Training loop\n",
        "for epoch in range(101):\n",
        "    optimizer.zero_grad()\n",
        "    y = net(data)                   # forward pass\n",
        "    loss = criterion(y, target)     # compute loss\n",
        "    loss.backward()                 # backward pass\n",
        "    optimizer.step()                # update weights\n",
        "\n",
        "    if epoch % 10 == 0:  # print every 10 epochs\n",
        "        print(f\"Epoch {epoch}: preds={y.squeeze().detach().numpy()}, loss={loss.item():.4f}\")\n"
      ],
      "metadata": {
        "colab": {
          "base_uri": "https://localhost:8080/"
        },
        "id": "xD_MGQYMxSsp",
        "outputId": "854d6365-4c99-4952-c04b-7a04ceb337cd"
      },
      "execution_count": null,
      "outputs": [
        {
          "output_type": "stream",
          "name": "stdout",
          "text": [
            "Epoch 0: preds=[-0.40846878 -0.35366654 -0.46227118 -0.5708758  -0.67948043], loss=38.8156\n",
            "Epoch 10: preds=[1.6454921 3.4594994 5.115805  6.7721105 8.428415 ], loss=0.2040\n",
            "Epoch 20: preds=[1.5495147 3.4634476 5.203232  6.943017  8.682802 ], loss=0.1324\n",
            "Epoch 30: preds=[1.4445466 3.4062128 5.17996   6.9537067 8.727454 ], loss=0.0943\n",
            "Epoch 40: preds=[1.3570006 3.3582199 5.160194  6.962168  8.764142 ], loss=0.0677\n",
            "Epoch 50: preds=[1.2839051 3.3178852 5.1434107 6.9689355 8.79446  ], loss=0.0491\n",
            "Epoch 60: preds=[1.2228554 3.2839236 5.1291537 6.9743843 8.819614 ], loss=0.0360\n",
            "Epoch 70: preds=[1.1718781 3.2552874 5.1170416 6.9787955 8.840549 ], loss=0.0269\n",
            "Epoch 80: preds=[1.1293359 3.2311091 5.1067467 6.9823837 8.85802  ], loss=0.0204\n",
            "Epoch 90: preds=[1.0938623 3.2106676 5.097991  6.985314  8.872637 ], loss=0.0158\n",
            "Epoch 100: preds=[1.0643128 3.19336   5.0905375 6.987715  8.884893 ], loss=0.0126\n"
          ]
        }
      ]
    },
    {
      "cell_type": "code",
      "source": [
        "import matplotlib.pyplot as plt\n",
        "\n",
        "with torch.no_grad():\n",
        "    preds = net(data)\n",
        "plt.scatter(data, target, label=\"Target\")\n",
        "plt.plot(data, preds, label=\"Prediction\", color=\"red\")\n",
        "plt.legend()\n",
        "plt.show()\n"
      ],
      "metadata": {
        "colab": {
          "base_uri": "https://localhost:8080/",
          "height": 430
        },
        "id": "Addv0XrwyoYZ",
        "outputId": "86a788d5-8a6f-4276-f979-73d292e8073f"
      },
      "execution_count": null,
      "outputs": [
        {
          "output_type": "display_data",
          "data": {
            "text/plain": [
              "<Figure size 640x480 with 1 Axes>"
            ],
            "image/png": "[encoded data removed]"
          },
          "metadata": {}
        }
      ]
    },
    {
      "cell_type": "markdown",
      "source": [
        "print actual predictions vs. expected values (like a small table) after training, so you can verify the network really learned 2x+1"
      ],
      "metadata": {
        "id": "hodfV2UgztUI"
      }
    },
    {
      "cell_type": "code",
      "source": [
        "import torch\n",
        "import torch.nn as nn\n",
        "import torch.nn.functional as F\n",
        "\n",
        "# 1. Define a simple neural network\n",
        "class SimpleNet(nn.Module):\n",
        "    def __init__(self):\n",
        "        super().__init__()\n",
        "        self.fc1 = nn.Linear(1, 4)   # input -> hidden\n",
        "        self.fc2 = nn.Linear(4, 1)   # hidden -> output\n",
        "\n",
        "    def forward(self, x):\n",
        "        h = F.relu(self.fc1(x))  # hidden layer\n",
        "        y = self.fc2(h)          # output\n",
        "        return y\n",
        "\n",
        "# 2. Training data (x and target y=2x+1)\n",
        "data = torch.tensor([[0.0], [1.0], [2.0], [3.0], [4.0]])\n",
        "target = torch.tensor([[1.0], [3.0], [5.0], [7.0], [9.0]])\n",
        "\n",
        "# 3. Initialize model, loss, optimizer\n",
        "net = SimpleNet()\n",
        "criterion = nn.MSELoss()\n",
        "optimizer = torch.optim.SGD(net.parameters(), lr=0.01)\n",
        "\n",
        "# 4. Training loop\n",
        "for epoch in range(201):\n",
        "    optimizer.zero_grad()\n",
        "    y_pred = net(data)\n",
        "    loss = criterion(y_pred, target)\n",
        "    loss.backward()\n",
        "    optimizer.step()\n",
        "\n",
        "    if epoch % 20 == 0:\n",
        "        print(f\"Epoch {epoch:3d}: Loss={loss.item():.4f}\")\n",
        "\n",
        "# 5. Show predictions vs. actual\n",
        "print(\"\\n=== Final Predictions ===\")\n",
        "with torch.no_grad():  # disable gradient tracking\n",
        "    predictions = net(data)\n",
        "    for i in range(len(data)):\n",
        "        x_val = data[i].item()\n",
        "        y_true = target[i].item()\n",
        "        y_hat = predictions[i].item()\n",
        "        print(f\"x={x_val:.1f} | y_true={y_true:.1f} | y_pred={y_hat:.2f}\")\n"
      ],
      "metadata": {
        "colab": {
          "base_uri": "https://localhost:8080/"
        },
        "id": "8CnhB1eAy14k",
        "outputId": "250f48d7-8b6e-488b-c513-af1ef15a5b81"
      },
      "execution_count": null,
      "outputs": [
        {
          "output_type": "stream",
          "name": "stdout",
          "text": [
            "Epoch   0: Loss=29.1934\n",
            "Epoch  20: Loss=0.0298\n",
            "Epoch  40: Loss=0.0169\n",
            "Epoch  60: Loss=0.0110\n",
            "Epoch  80: Loss=0.0081\n",
            "Epoch 100: Loss=0.0067\n",
            "Epoch 120: Loss=0.0059\n",
            "Epoch 140: Loss=0.0054\n",
            "Epoch 160: Loss=0.0050\n",
            "Epoch 180: Loss=0.0047\n",
            "Epoch 200: Loss=0.0044\n",
            "\n",
            "=== Final Predictions ===\n",
            "x=0.0 | y_true=1.0 | y_pred=0.93\n",
            "x=1.0 | y_true=3.0 | y_pred=3.10\n",
            "x=2.0 | y_true=5.0 | y_pred=5.05\n",
            "x=3.0 | y_true=7.0 | y_pred=7.00\n",
            "x=4.0 | y_true=9.0 | y_pred=8.95\n"
          ]
        }
      ]
    },
    {
      "cell_type": "markdown",
      "source": [
        "Visual representation. Think of each **training step** as a 3-stage cycle:\n",
        "\n",
        "---\n",
        "\n",
        "## ⚙️ Training Step Flow\n",
        "\n",
        "```\n",
        "          ┌───────────────┐\n",
        "          │   Step Start  │\n",
        "          └───────┬───────┘\n",
        "                  │\n",
        "       ┌──────────▼──────────┐\n",
        "       │ optimizer.zero_grad()│\n",
        "       │ Clear old gradients  │\n",
        "       └──────────┬──────────┘\n",
        "                  │\n",
        "       ┌──────────▼──────────┐\n",
        "       │   loss.backward()   │\n",
        "       │ Compute new gradients│\n",
        "       │ (∂Loss/∂Weights)    │\n",
        "       └──────────┬──────────┘\n",
        "                  │\n",
        "       ┌──────────▼──────────┐\n",
        "       │   optimizer.step()   │\n",
        "       │ Update parameters    │\n",
        "       │ using gradients      │\n",
        "       └──────────┬──────────┘\n",
        "                  │\n",
        "          ┌───────▼───────┐\n",
        "          │   Step End    │\n",
        "          └───────────────┘\n",
        "```\n",
        "\n",
        "---\n",
        "\n",
        "## 🔎 Explanation of Each Stage\n",
        "\n",
        "1. **`optimizer.zero_grad()`**\n",
        "\n",
        "   * Resets `.grad` values for all model parameters.\n",
        "   * Think of it as erasing the \"scratchpad\" before writing new gradients.\n",
        "\n",
        "2. **`loss.backward()`**\n",
        "\n",
        "   * PyTorch traverses the computational graph (Autograd) and computes derivatives of `loss` w\\.r.t. each parameter.\n",
        "   * Stores results in `param.grad`.\n",
        "\n",
        "3. **`optimizer.step()`**\n",
        "\n",
        "   * Uses the gradients in `param.grad` to update weights.\n",
        "   * Example (SGD update rule):\n",
        "\n",
        "     $$\n",
        "     w \\leftarrow w - \\eta \\cdot \\frac{\\partial L}{\\partial w}\n",
        "     $$\n",
        "\n",
        "     where $\\eta$ = learning rate.\n",
        "\n",
        "---\n",
        "\n",
        "## 🔁 This repeats every epoch:\n",
        "\n",
        "* Zero → Backpropagate → Update\n",
        "\n",
        "That’s how the network **gradually learns** by reducing loss.\n",
        "\n",
        "---\n",
        "\n",
        "\n",
        "\n"
      ],
      "metadata": {
        "id": "yv9-zAd10GEG"
      }
    },
    {
      "cell_type": "markdown",
      "source": [
        "👉To **illustrate with numbers** (e.g., a single weight starting at 5.0 and moving towards the correct value step by step with zero\\_grad/backward/step)?\n",
        "\n",
        "\n",
        "Awesome 🚀 Let’s walk through a **tiny numerical example** to see how `zero_grad → backward → step` works in practice.\n",
        "\n",
        "---\n",
        "\n",
        "## 🎯 Setup\n",
        "\n",
        "We want the network to learn:\n",
        "\n",
        "$$\n",
        "y = 2x\n",
        "$$\n",
        "\n",
        "Let’s start with:\n",
        "\n",
        "* A single weight $w$, initialized as **5.0** (wrong).\n",
        "* Learning rate $\\eta = 0.1$.\n",
        "* One training example: $x = 1, y_{true} = 2$.\n",
        "\n",
        "---\n",
        "\n",
        "## ⚙️ Training Iterations\n",
        "\n",
        "### **Step 1: Forward pass**\n",
        "\n",
        "$$\n",
        "y_{pred} = w \\cdot x = 5.0 \\cdot 1 = 5.0\n",
        "$$\n",
        "\n",
        "Loss (MSE):\n",
        "\n",
        "$$\n",
        "L = (y_{pred} - y_{true})^2 = (5 - 2)^2 = 9\n",
        "$$\n",
        "\n",
        "---\n",
        "\n",
        "### **Step 2: Backward pass (`loss.backward()`)**\n",
        "\n",
        "Gradient:\n",
        "\n",
        "$$\n",
        "\\frac{\\partial L}{\\partial w} = 2 \\cdot (y_{pred} - y_{true}) \\cdot x\n",
        "= 2 \\cdot (5 - 2) \\cdot 1 = 6\n",
        "$$\n",
        "\n",
        "So `w.grad = 6`.\n",
        "\n",
        "---\n",
        "\n",
        "### **Step 3: Update weights (`optimizer.step()`)**\n",
        "\n",
        "$$\n",
        "w \\leftarrow w - \\eta \\cdot w.grad\n",
        "$$\n",
        "\n",
        "$$\n",
        "w = 5.0 - 0.1 \\cdot 6 = 5.0 - 0.6 = 4.4\n",
        "$$\n",
        "\n",
        "✅ Weight moves closer to the correct value (2.0).\n",
        "\n",
        "---\n",
        "\n",
        "### **Step 4: Zero gradients (`optimizer.zero_grad()`)**\n",
        "\n",
        "Now, `w.grad` is cleared (reset to 0), so the next iteration starts fresh.\n",
        "\n",
        "---\n",
        "\n",
        "## 🔁 Next Iteration (Step 2)\n",
        "\n",
        "1. Forward:\n",
        "\n",
        "$$\n",
        "y_{pred} = 4.4 \\cdot 1 = 4.4\n",
        "$$\n",
        "\n",
        "Loss = $(4.4 - 2)^2 = 5.76$.\n",
        "\n",
        "2. Backward:\n",
        "\n",
        "$$\n",
        "\\frac{\\partial L}{\\partial w} = 2 \\cdot (4.4 - 2) \\cdot 1 = 4.8\n",
        "$$\n",
        "\n",
        "So `w.grad = 4.8`.\n",
        "\n",
        "3. Update:\n",
        "\n",
        "$$\n",
        "w = 4.4 - 0.1 \\cdot 4.8 = 3.92\n",
        "$$\n",
        "\n",
        "✅ Weight gets closer to 2.0 again.\n",
        "\n",
        "---\n",
        "\n",
        "## 📉 What’s Happening\n",
        "\n",
        "* Each iteration reduces loss.\n",
        "* `zero_grad()` ensures we don’t **accumulate old gradients**.\n",
        "* `backward()` computes fresh gradients.\n",
        "* `step()` nudges weights toward the optimal value.\n",
        "\n",
        "---\n",
        "\n"
      ],
      "metadata": {
        "id": "awpfK6zK0Ux0"
      }
    },
    {
      "cell_type": "code",
      "source": [
        "import torch\n",
        "import torch.nn as nn\n",
        "import torch.nn.functional as F\n",
        "import matplotlib.pyplot as plt\n",
        "\n",
        "# 1. Generate dataset\n",
        "x = torch.linspace(-5, 5, 100).unsqueeze(1)  # shape (100,1)\n",
        "y = 3 * x + 2 + 0.5*torch.randn(x.size())    # add noise\n",
        "\n",
        "# 2. Define model (1 hidden layer)\n",
        "class Net(nn.Module):\n",
        "    def __init__(self):\n",
        "        super().__init__()\n",
        "        self.fc1 = nn.Linear(1, 10)  # input -> hidden\n",
        "        self.fc2 = nn.Linear(10, 1)  # hidden -> output\n",
        "\n",
        "    def forward(self, x):\n",
        "        h = F.relu(self.fc1(x))\n",
        "        out = self.fc2(h)\n",
        "        return out\n",
        "\n",
        "net = Net()\n",
        "\n",
        "# 3. Loss + optimizer\n",
        "criterion = nn.MSELoss()\n",
        "optimizer = torch.optim.SGD(net.parameters(), lr=0.01)\n",
        "\n",
        "# 4. Training loop\n",
        "for epoch in range(201):\n",
        "    optimizer.zero_grad()\n",
        "    y_pred = net(x)\n",
        "    loss = criterion(y_pred, y)\n",
        "    loss.backward()\n",
        "    optimizer.step()\n",
        "\n",
        "    if epoch % 20 == 0:\n",
        "        print(f\"Epoch {epoch}: Loss={loss.item():.4f}\")\n",
        "\n",
        "# 5. Plot predictions\n",
        "with torch.no_grad():\n",
        "    plt.scatter(x.numpy(), y.numpy(), label=\"True data\")\n",
        "    plt.plot(x.numpy(), net(x).numpy(), color=\"red\", label=\"Predicted line\")\n",
        "    plt.legend()\n",
        "    plt.show()\n"
      ],
      "metadata": {
        "colab": {
          "base_uri": "https://localhost:8080/",
          "height": 621
        },
        "id": "jtBfncqLzwTe",
        "outputId": "0a68dcd0-6473-48f3-d5a3-3128d28d4170"
      },
      "execution_count": null,
      "outputs": [
        {
          "output_type": "stream",
          "name": "stdout",
          "text": [
            "Epoch 0: Loss=86.2284\n",
            "Epoch 20: Loss=0.5090\n",
            "Epoch 40: Loss=0.3598\n",
            "Epoch 60: Loss=0.2914\n",
            "Epoch 80: Loss=0.2597\n",
            "Epoch 100: Loss=0.2427\n",
            "Epoch 120: Loss=0.2310\n",
            "Epoch 140: Loss=0.2217\n",
            "Epoch 160: Loss=0.2158\n",
            "Epoch 180: Loss=0.2113\n",
            "Epoch 200: Loss=0.2074\n"
          ]
        },
        {
          "output_type": "display_data",
          "data": {
            "text/plain": [
              "<Figure size 640x480 with 1 Axes>"
            ],
            "image/png": "[encoded data removed]"
          },
          "metadata": {}
        }
      ]
    },
    {
      "cell_type": "code",
      "source": [
        "with torch.no_grad():  # disable gradient tracking\n",
        "    predictions = net(x)\n",
        "    for i in range(len(x)):\n",
        "        x_val = x[i].item()\n",
        "        y_true = y[i].item()\n",
        "        y_hat = predictions[i].item()\n",
        "        print(f\"x={x_val:.1f} | y_true={y_true:.1f} | y_pred={y_hat:.2f}\")"
      ],
      "metadata": {
        "colab": {
          "base_uri": "https://localhost:8080/"
        },
        "id": "Phb3EoRNFaWN",
        "outputId": "e3c54ba5-2e12-4708-f300-0517271aacc2"
      },
      "execution_count": null,
      "outputs": [
        {
          "output_type": "stream",
          "name": "stdout",
          "text": [
            "x=-5.0 | y_true=-13.1 | y_pred=-12.63\n",
            "x=-4.9 | y_true=-12.0 | y_pred=-12.36\n",
            "x=-4.8 | y_true=-12.0 | y_pred=-12.09\n",
            "x=-4.7 | y_true=-12.4 | y_pred=-11.82\n",
            "x=-4.6 | y_true=-11.2 | y_pred=-11.53\n",
            "x=-4.5 | y_true=-11.1 | y_pred=-11.25\n",
            "x=-4.4 | y_true=-11.3 | y_pred=-10.97\n",
            "x=-4.3 | y_true=-11.4 | y_pred=-10.69\n",
            "x=-4.2 | y_true=-10.2 | y_pred=-10.41\n",
            "x=-4.1 | y_true=-10.7 | y_pred=-10.13\n",
            "x=-4.0 | y_true=-10.2 | y_pred=-9.85\n",
            "x=-3.9 | y_true=-9.0 | y_pred=-9.57\n",
            "x=-3.8 | y_true=-9.3 | y_pred=-9.29\n",
            "x=-3.7 | y_true=-8.2 | y_pred=-9.01\n",
            "x=-3.6 | y_true=-8.6 | y_pred=-8.72\n",
            "x=-3.5 | y_true=-8.7 | y_pred=-8.44\n",
            "x=-3.4 | y_true=-8.2 | y_pred=-8.16\n",
            "x=-3.3 | y_true=-8.1 | y_pred=-7.88\n",
            "x=-3.2 | y_true=-7.4 | y_pred=-7.60\n",
            "x=-3.1 | y_true=-7.8 | y_pred=-7.32\n",
            "x=-3.0 | y_true=-6.9 | y_pred=-7.04\n",
            "x=-2.9 | y_true=-6.6 | y_pred=-6.73\n",
            "x=-2.8 | y_true=-6.1 | y_pred=-6.42\n",
            "x=-2.7 | y_true=-7.0 | y_pred=-6.11\n",
            "x=-2.6 | y_true=-5.5 | y_pred=-5.80\n",
            "x=-2.5 | y_true=-5.1 | y_pred=-5.49\n",
            "x=-2.4 | y_true=-4.6 | y_pred=-5.18\n",
            "x=-2.3 | y_true=-5.1 | y_pred=-4.88\n",
            "x=-2.2 | y_true=-4.3 | y_pred=-4.57\n",
            "x=-2.1 | y_true=-4.3 | y_pred=-4.26\n",
            "x=-2.0 | y_true=-4.2 | y_pred=-3.95\n",
            "x=-1.9 | y_true=-3.4 | y_pred=-3.64\n",
            "x=-1.8 | y_true=-3.1 | y_pred=-3.33\n",
            "x=-1.7 | y_true=-2.5 | y_pred=-3.02\n",
            "x=-1.6 | y_true=-3.0 | y_pred=-2.71\n",
            "x=-1.5 | y_true=-2.2 | y_pred=-2.40\n",
            "x=-1.4 | y_true=-1.9 | y_pred=-2.09\n",
            "x=-1.3 | y_true=-1.8 | y_pred=-1.78\n",
            "x=-1.2 | y_true=-1.8 | y_pred=-1.47\n",
            "x=-1.1 | y_true=-0.7 | y_pred=-1.16\n",
            "x=-1.0 | y_true=-0.4 | y_pred=-0.91\n",
            "x=-0.9 | y_true=-0.3 | y_pred=-0.69\n",
            "x=-0.8 | y_true=-0.8 | y_pred=-0.51\n",
            "x=-0.7 | y_true=-0.1 | y_pred=-0.32\n",
            "x=-0.6 | y_true=0.0 | y_pred=-0.14\n",
            "x=-0.5 | y_true=1.0 | y_pred=0.05\n",
            "x=-0.4 | y_true=-0.1 | y_pred=0.29\n",
            "x=-0.3 | y_true=1.4 | y_pred=0.64\n",
            "x=-0.2 | y_true=1.4 | y_pred=1.02\n",
            "x=-0.1 | y_true=0.2 | y_pred=1.40\n",
            "x=0.1 | y_true=1.6 | y_pred=1.79\n",
            "x=0.2 | y_true=2.5 | y_pred=2.17\n",
            "x=0.3 | y_true=2.5 | y_pred=2.56\n",
            "x=0.4 | y_true=2.0 | y_pred=2.94\n",
            "x=0.5 | y_true=3.1 | y_pred=3.32\n",
            "x=0.6 | y_true=3.9 | y_pred=3.71\n",
            "x=0.7 | y_true=3.3 | y_pred=4.03\n",
            "x=0.8 | y_true=3.8 | y_pred=4.33\n",
            "x=0.9 | y_true=4.8 | y_pred=4.62\n",
            "x=1.0 | y_true=5.0 | y_pred=4.91\n",
            "x=1.1 | y_true=5.2 | y_pred=5.21\n",
            "x=1.2 | y_true=5.6 | y_pred=5.50\n",
            "x=1.3 | y_true=5.5 | y_pred=5.80\n",
            "x=1.4 | y_true=6.7 | y_pred=6.09\n",
            "x=1.5 | y_true=6.3 | y_pred=6.39\n",
            "x=1.6 | y_true=6.5 | y_pred=6.68\n",
            "x=1.7 | y_true=6.8 | y_pred=6.97\n",
            "x=1.8 | y_true=7.1 | y_pred=7.27\n",
            "x=1.9 | y_true=6.3 | y_pred=7.56\n",
            "x=2.0 | y_true=7.9 | y_pred=7.86\n",
            "x=2.1 | y_true=8.2 | y_pred=8.15\n",
            "x=2.2 | y_true=8.6 | y_pred=8.44\n",
            "x=2.3 | y_true=8.0 | y_pred=8.74\n",
            "x=2.4 | y_true=9.1 | y_pred=9.03\n",
            "x=2.5 | y_true=9.1 | y_pred=9.33\n",
            "x=2.6 | y_true=10.2 | y_pred=9.62\n",
            "x=2.7 | y_true=9.9 | y_pred=9.91\n",
            "x=2.8 | y_true=10.0 | y_pred=10.21\n",
            "x=2.9 | y_true=10.8 | y_pred=10.50\n",
            "x=3.0 | y_true=11.1 | y_pred=10.80\n",
            "x=3.1 | y_true=10.3 | y_pred=11.09\n",
            "x=3.2 | y_true=11.2 | y_pred=11.38\n",
            "x=3.3 | y_true=11.0 | y_pred=11.68\n",
            "x=3.4 | y_true=11.9 | y_pred=11.97\n",
            "x=3.5 | y_true=11.8 | y_pred=12.27\n",
            "x=3.6 | y_true=12.6 | y_pred=12.56\n",
            "x=3.7 | y_true=12.7 | y_pred=12.86\n",
            "x=3.8 | y_true=12.5 | y_pred=13.15\n",
            "x=3.9 | y_true=13.7 | y_pred=13.44\n",
            "x=4.0 | y_true=14.1 | y_pred=13.74\n",
            "x=4.1 | y_true=14.5 | y_pred=14.03\n",
            "x=4.2 | y_true=14.4 | y_pred=14.33\n",
            "x=4.3 | y_true=15.3 | y_pred=14.62\n",
            "x=4.4 | y_true=16.4 | y_pred=14.91\n",
            "x=4.5 | y_true=15.9 | y_pred=15.21\n",
            "x=4.6 | y_true=15.2 | y_pred=15.50\n",
            "x=4.7 | y_true=15.3 | y_pred=15.80\n",
            "x=4.8 | y_true=16.2 | y_pred=16.09\n",
            "x=4.9 | y_true=16.5 | y_pred=16.38\n",
            "x=5.0 | y_true=16.5 | y_pred=16.68\n"
          ]
        }
      ]
    },
    {
      "cell_type": "markdown",
      "source": [
        "🎯 Assignment 3: 2D Classification (Toy Dataset)\n",
        "\n",
        "Instead of predicting numbers (regression), let’s train a neural network to classify points into two categories. This introduces you to:\n",
        "\n",
        "  * Classification problems\n",
        "\n",
        "  * CrossEntropy loss\n",
        "\n",
        "  * Softmax outputs\n",
        "\n",
        "🏗 Task\n",
        "\n",
        "Create a 2D dataset with two classes (e.g., red vs. blue points).\n",
        "\n",
        "  * Define a small neural network.\n",
        "\n",
        "  * Train it using CrossEntropyLoss.\n",
        "\n",
        "  * Print classification accuracy.\n",
        "\n",
        "  * Plot decision boundary.\n",
        "\n",
        "\n",
        "\n"
      ],
      "metadata": {
        "id": "mnMfFmV5Gd3v"
      }
    },
    {
      "cell_type": "code",
      "source": [
        "import torch\n",
        "import torch.nn as nn\n",
        "import torch.nn.functional as F\n",
        "import matplotlib.pyplot as plt\n",
        "from sklearn.datasets import make_moons"
      ],
      "metadata": {
        "id": "ttrBy8dZFtaA"
      },
      "execution_count": null,
      "outputs": []
    },
    {
      "cell_type": "code",
      "source": [
        "# 1. Generate toy dataset\n",
        "x, y = make_moons(n_samples=200, noise = 0.2, random_state=42)\n",
        "x = torch.tensor(x, dtype=torch.float32)\n",
        "y = torch.tensor(y, dtype=torch.long)"
      ],
      "metadata": {
        "id": "7O0pTtshGtTW"
      },
      "execution_count": null,
      "outputs": []
    },
    {
      "cell_type": "code",
      "source": [
        "# 2. Define Model\n",
        "class Classifier(nn.Module):\n",
        "  def __init__(self):\n",
        "      super().__init__()\n",
        "      self.fc1 = nn.Linear(2, 16)\n",
        "      self.fc2 = nn.Linear(16,2)\n",
        "\n",
        "  def forward(self,x):\n",
        "    h = F.relu(self.fc1(x))\n",
        "    y = self.fc2(h)  # no softmax here (CrossEntropyLoss handles it)\n",
        "    return y"
      ],
      "metadata": {
        "id": "YbWfrZf4Hmkn"
      },
      "execution_count": null,
      "outputs": []
    },
    {
      "cell_type": "code",
      "source": [
        "net = Classifier()"
      ],
      "metadata": {
        "id": "jfoN5YPJIGyK"
      },
      "execution_count": null,
      "outputs": []
    },
    {
      "cell_type": "code",
      "source": [
        "# 3. Loss + optimizer\n",
        "criterion = nn.CrossEntropyLoss()\n",
        "optimizer = torch.optim.SGD(net.parameters(), lr=0.1)"
      ],
      "metadata": {
        "id": "yPjVNMapIJCk"
      },
      "execution_count": null,
      "outputs": []
    },
    {
      "cell_type": "code",
      "source": [
        "# 4. Training Loop\n",
        "for epoch in range(201):\n",
        "    optimizer.zero_grad()\n",
        "    y_logits = net(x)          # raw class scores\n",
        "    loss = criterion(y_logits, y)\n",
        "    loss.backward()\n",
        "    optimizer.step()\n",
        "\n",
        "    if epoch % 20 == 0:\n",
        "        pred = torch.argmax(y_logits, dim=1)\n",
        "        acc = (pred == y).float().mean()\n",
        "        print(f\"Epoch {epoch}: Loss={loss.item():.4f}, Accuracy={acc:.4f}\")"
      ],
      "metadata": {
        "colab": {
          "base_uri": "https://localhost:8080/"
        },
        "id": "e2dXloK0ITPl",
        "outputId": "521d35a3-64d4-4f2e-cc5f-62cf4a4ae3f6"
      },
      "execution_count": null,
      "outputs": [
        {
          "output_type": "stream",
          "name": "stdout",
          "text": [
            "Epoch 0: Loss=0.6850, Accuracy=0.5000\n",
            "Epoch 20: Loss=0.4172, Accuracy=0.8350\n",
            "Epoch 40: Loss=0.3603, Accuracy=0.8350\n",
            "Epoch 60: Loss=0.3395, Accuracy=0.8350\n",
            "Epoch 80: Loss=0.3285, Accuracy=0.8550\n",
            "Epoch 100: Loss=0.3214, Accuracy=0.8550\n",
            "Epoch 120: Loss=0.3162, Accuracy=0.8500\n",
            "Epoch 140: Loss=0.3121, Accuracy=0.8500\n",
            "Epoch 160: Loss=0.3090, Accuracy=0.8450\n",
            "Epoch 180: Loss=0.3065, Accuracy=0.8450\n",
            "Epoch 200: Loss=0.3043, Accuracy=0.8400\n"
          ]
        }
      ]
    },
    {
      "cell_type": "code",
      "source": [
        "# 5. Plot decision boundary\n",
        "with torch.no_grad():\n",
        "    xx, yy = torch.meshgrid(\n",
        "        torch.linspace(-2, 3, 100),\n",
        "        torch.linspace(-1.5, 2, 100),\n",
        "        indexing=\"ij\"\n",
        "    )\n",
        "    grid = torch.cat([xx.reshape(-1,1), yy.reshape(-1,1)], dim=1)\n",
        "    preds = net(grid)\n",
        "    preds = torch.argmax(preds, dim=1).reshape(xx.shape)"
      ],
      "metadata": {
        "id": "ST-nycjnIppv"
      },
      "execution_count": null,
      "outputs": []
    },
    {
      "cell_type": "code",
      "source": [
        "plt.contourf(xx, yy, preds, cmap=\"coolwarm\", alpha=0.6)\n",
        "plt.scatter(x[:,0], x[:,1], c=y, cmap=\"coolwarm\", edgecolors=\"k\")\n",
        "plt.title(\"Decision Boundary\")\n",
        "plt.show()"
      ],
      "metadata": {
        "colab": {
          "base_uri": "https://localhost:8080/",
          "height": 452
        },
        "id": "1Up1SPKNJRDO",
        "outputId": "68cedb2b-89b1-4c6d-b259-18582872fff9"
      },
      "execution_count": null,
      "outputs": [
        {
          "output_type": "display_data",
          "data": {
            "text/plain": [
              "<Figure size 640x480 with 1 Axes>"
            ],
            "image/png": "[encoded data removed]"
          },
          "metadata": {}
        }
      ]
    },
    {
      "cell_type": "markdown",
      "source": [
        "👍 — this is the **right time** to talk about **logits** and **argmax**, because once you move from simple regression (like $y = 2x + 1$) to **classification** tasks (like MNIST digits), these concepts become central.\n",
        "\n",
        "---\n",
        "\n",
        "## 🔹 1. What are **logits**?\n",
        "\n",
        "* In deep learning, especially classification tasks, the **last layer** of the network usually outputs **raw scores** (before applying a probability function).\n",
        "* These raw scores are called **logits**.\n",
        "\n",
        "👉 Example:\n",
        "Suppose you want to classify an image into 3 classes: **cat, dog, horse**.\n",
        "Your network might output something like:\n",
        "\n",
        "$$\n",
        "\\text{logits} = [2.1, -1.3, 0.7]\n",
        "$$\n",
        "\n",
        "* These numbers are **not probabilities**.\n",
        "* They can be positive or negative, and they don’t sum to 1.\n",
        "\n",
        "Why raw scores?\n",
        "\n",
        "* Because they are easier for the model to learn and optimize (no restriction like \"sum must be 1\").\n",
        "* Later, we’ll convert them into probabilities using **softmax**.\n",
        "\n",
        "---\n",
        "\n",
        "## 🔹 2. Softmax (turn logits → probabilities)\n",
        "\n",
        "$$\n",
        "p_i = \\frac{e^{z_i}}{\\sum_j e^{z_j}}\n",
        "$$\n",
        "\n",
        "For the logits `[2.1, -1.3, 0.7]`:\n",
        "\n",
        "$$\n",
        "\\text{softmax} = [0.62, 0.05, 0.33]\n",
        "$$\n",
        "\n",
        "* Now you can say:\n",
        "\n",
        "  * Cat: 62% chance\n",
        "  * Dog: 5% chance\n",
        "  * Horse: 33% chance\n",
        "\n",
        "---\n",
        "\n",
        "## 🔹 3. What is **argmax**?\n",
        "\n",
        "* Once you have logits (or probabilities), you want to **choose the predicted class**.\n",
        "* `argmax` gives the **index of the largest value**.\n",
        "\n",
        "👉 Example:\n",
        "\n",
        "$$\n",
        "\\text{logits} = [2.1, -1.3, 0.7] \\quad \\Rightarrow \\quad \\text{argmax} = 0\n",
        "$$\n",
        "\n",
        "That means **class 0** (cat) is the predicted label.\n",
        "\n",
        "---\n",
        "\n",
        "## 🔹 4. Why do we use logits + argmax in PyTorch?\n",
        "\n",
        "* **Training phase**:\n",
        "\n",
        "  * We usually pass logits directly to loss functions like `nn.CrossEntropyLoss`, which internally applies **softmax + log-likelihood** in a numerically stable way.\n",
        "* **Inference phase (prediction)**:\n",
        "\n",
        "  * We take logits, apply `argmax` to get the predicted class.\n",
        "  * We don’t *always* need softmax, since argmax(logits) = argmax(softmax(logits)).\n",
        "\n",
        "---\n",
        "\n",
        "## 🔹 5. Quick PyTorch example\n",
        "\n",
        "```python\n",
        "import torch\n",
        "import torch.nn as nn\n",
        "import torch.nn.functional as F\n",
        "\n",
        "# Suppose 3 classes\n",
        "logits = torch.tensor([[2.1, -1.3, 0.7]])\n",
        "\n",
        "# Softmax → probabilities\n",
        "probs = F.softmax(logits, dim=1)\n",
        "print(\"Probabilities:\", probs)\n",
        "\n",
        "# Argmax → predicted class\n",
        "pred = torch.argmax(logits, dim=1)\n",
        "print(\"Predicted class:\", pred.item())\n",
        "```\n",
        "\n",
        "🔹 Output:\n",
        "\n",
        "```\n",
        "Probabilities: tensor([[0.62, 0.05, 0.33]])\n",
        "Predicted class: 0\n",
        "```\n",
        "\n",
        "---\n",
        "\n",
        "✅ **Summary**:\n",
        "\n",
        "* **Logits** = raw model outputs (before softmax).\n",
        "* **Softmax** = converts logits into probabilities.\n",
        "* **Argmax** = picks the class with highest score/probability.\n",
        "* During **training**, we use logits with `CrossEntropyLoss`.\n",
        "* During **testing/inference**, we use `argmax` to decide the final class.\n",
        "\n",
        "---\n",
        "\n",
        "Would you like me to now give you a **mini assignment** where you’ll build a 3-class classifier (tiny neural net) on toy data and see how logits, softmax, and argmax come into play? That will make this 100% concrete before we scale up to MNIST.\n"
      ],
      "metadata": {
        "id": "RgqN7TFGJ-cC"
      }
    },
    {
      "cell_type": "code",
      "source": [],
      "metadata": {
        "id": "I7w_SBXPJUpW"
      },
      "execution_count": null,
      "outputs": []
    },
    {
      "cell_type": "markdown",
      "source": [
        "Great question 👍 — **`optimizer.step()`** is one of the most important steps in training a neural network. Let’s break it down carefully.\n",
        "\n",
        "---\n",
        "\n",
        "## ⚙️ What happens in `optimizer.step()`?\n",
        "\n",
        "When you call:\n",
        "\n",
        "```python\n",
        "optimizer.step()\n",
        "```\n",
        "\n",
        "PyTorch goes through **all the parameters (weights & biases)** in your model and **updates them using their gradients** that were computed during `loss.backward()`.\n",
        "\n",
        "---\n",
        "\n",
        "## 🔎 Example with SGD Optimizer\n",
        "\n",
        "If you are using **Stochastic Gradient Descent (SGD)**:\n",
        "\n",
        "```python\n",
        "optimizer = torch.optim.SGD(model.parameters(), lr=0.1)\n",
        "```\n",
        "\n",
        "the update rule for each parameter $w$ is:\n",
        "\n",
        "$$\n",
        "w \\; \\leftarrow \\; w \\; - \\; \\eta \\cdot \\frac{\\partial L}{\\partial w}\n",
        "$$\n",
        "\n",
        "* $w$ → current weight\n",
        "* $\\eta$ → learning rate (e.g., 0.1)\n",
        "* $\\frac{\\partial L}{\\partial w}$ → gradient of loss w\\.r.t. the weight\n",
        "\n",
        "So **optimizer.step() applies this update to every weight in the network**.\n",
        "\n",
        "---\n",
        "\n",
        "## 🧮 Mini Example by Hand\n",
        "\n",
        "Imagine:\n",
        "\n",
        "* Current weight = $w = 5.0$\n",
        "* Gradient from `loss.backward()` = $\\frac{\\partial L}{\\partial w} = 0.4$\n",
        "* Learning rate = $\\eta = 0.1$\n",
        "\n",
        "Update:\n",
        "\n",
        "$$\n",
        "w \\; \\leftarrow \\; 5.0 - 0.1 \\times 0.4 = 5.0 - 0.04 = 4.96\n",
        "$$\n",
        "\n",
        "So after `optimizer.step()`, the weight is **4.96**.\n",
        "\n",
        "---\n",
        "\n",
        "## 🛠️ With Different Optimizers\n",
        "\n",
        "* **SGD with momentum** → also considers past gradients.\n",
        "* **Adam** → adaptively adjusts learning rate per parameter (uses moving averages of gradients & squared gradients).\n",
        "* **RMSprop, Adagrad** → scale updates differently.\n",
        "\n",
        "But in all cases, **`optimizer.step()` = “Update parameters using gradients”**.\n",
        "\n",
        "---\n",
        "\n",
        "## 🔁 Training Cycle Recap\n",
        "\n",
        "1. `optimizer.zero_grad()` → Clear old gradients\n",
        "2. `loss.backward()` → Compute new gradients\n",
        "3. `optimizer.step()` → Update weights with new gradients\n",
        "\n",
        "---\n",
        "\n",
        "👉 Do you want me to show you **numerical updates with PyTorch** (e.g., printing the weight before and after `optimizer.step()` to see the change in action)?\n"
      ],
      "metadata": {
        "id": "hb6c_nrsNE9Q"
      }
    },
    {
      "cell_type": "markdown",
      "source": [
        "🚀 Let’s do a tiny PyTorch experiment to see optimizer.step() actually updating weights."
      ],
      "metadata": {
        "id": "KE8wcc8rNMBR"
      }
    },
    {
      "cell_type": "code",
      "source": [
        "import torch\n",
        "\n",
        "# Start with one weight (requires gradient for autograd)\n",
        "w = torch.tensor([5.0], requires_grad=True)\n",
        "\n",
        "# Optimizer (SGD with learning rate 0.1)\n",
        "optimizer = torch.optim.SGD([w], lr=0.1)\n",
        "\n",
        "# Fake loss = (w - 3)^2 → minimum when w=3\n",
        "for step in range(5):\n",
        "    optimizer.zero_grad()         # 1. clear old gradients\n",
        "\n",
        "    loss = (w - 3)**2             # 2. define loss\n",
        "    loss.backward()               # 3. compute gradient (dL/dw)\n",
        "\n",
        "    print(f\"Step {step}: w={w.item():.4f}, grad={w.grad.item():.4f}, loss={loss.item():.4f}\")\n",
        "\n",
        "    optimizer.step()              # 4. update weight\n"
      ],
      "metadata": {
        "colab": {
          "base_uri": "https://localhost:8080/"
        },
        "id": "W7wDDGycNHfL",
        "outputId": "d567d3a0-7f48-4b3c-d4cc-41379ca82c32"
      },
      "execution_count": null,
      "outputs": [
        {
          "output_type": "stream",
          "name": "stdout",
          "text": [
            "Step 0: w=5.0000, grad=4.0000, loss=4.0000\n",
            "Step 1: w=4.6000, grad=3.2000, loss=2.5600\n",
            "Step 2: w=4.2800, grad=2.5600, loss=1.6384\n",
            "Step 3: w=4.0240, grad=2.0480, loss=1.0486\n",
            "Step 4: w=3.8192, grad=1.6384, loss=0.6711\n"
          ]
        }
      ]
    },
    {
      "cell_type": "markdown",
      "source": [
        "Perfect 🚀 Let’s do a **tiny PyTorch experiment** to see `optimizer.step()` actually updating weights.\n",
        "\n",
        "---\n",
        "\n",
        "## 🧪 Minimal Example: One Weight\n",
        "\n",
        "```python\n",
        "import torch\n",
        "\n",
        "# Start with one weight (requires gradient for autograd)\n",
        "w = torch.tensor([5.0], requires_grad=True)\n",
        "\n",
        "# Optimizer (SGD with learning rate 0.1)\n",
        "optimizer = torch.optim.SGD([w], lr=0.1)\n",
        "\n",
        "# Fake loss = (w - 3)^2 → minimum when w=3\n",
        "for step in range(5):\n",
        "    optimizer.zero_grad()         # 1. clear old gradients\n",
        "    \n",
        "    loss = (w - 3)**2             # 2. define loss\n",
        "    loss.backward()               # 3. compute gradient (dL/dw)\n",
        "    \n",
        "    print(f\"Step {step}: w={w.item():.4f}, grad={w.grad.item():.4f}, loss={loss.item():.4f}\")\n",
        "    \n",
        "    optimizer.step()              # 4. update weight\n",
        "```\n",
        "\n",
        "---\n",
        "\n",
        "## 🔎 Expected Output Walkthrough\n",
        "\n",
        "1. **Start**: $w = 5.0$\n",
        "\n",
        "   * Loss = $(5-3)^2 = 4$\n",
        "   * Gradient = $2(w-3) = 4$\n",
        "   * Update → $w = 5 - 0.1 \\times 4 = 4.6$\n",
        "\n",
        "2. **Next step**: $w = 4.6$\n",
        "\n",
        "   * Loss = $(4.6-3)^2 = 2.56$\n",
        "   * Gradient = 3.2\n",
        "   * Update → $w = 4.6 - 0.1 \\times 3.2 = 4.28$\n",
        "\n",
        "3. Repeat → weight keeps moving towards 3.0 (the optimum).\n",
        "\n",
        "---\n",
        "\n",
        "## 🌟 Key Takeaways\n",
        "\n",
        "* `optimizer.step()` actually **moves the weight** using the gradient.\n",
        "* You can literally watch the number **shrink towards the minimum** step by step.\n",
        "* Without `optimizer.step()`, weights would **never change**, so the network wouldn’t learn.\n",
        "\n",
        "---\n",
        "\n",
        "👉 Do you want me to extend this same experiment to **two weights + bias** (like a mini linear regression) so you see how multiple parameters get updated together?\n"
      ],
      "metadata": {
        "id": "aDxKi-fmNfLR"
      }
    },
    {
      "cell_type": "code",
      "source": [
        "import torch\n",
        "\n",
        "# Dataset: 4 samples with 2 features each\n",
        "X = torch.tensor([\n",
        "    [0.0, 0.0],\n",
        "    [1.0, 0.0],\n",
        "    [0.0, 1.0],\n",
        "    [1.0, 1.0]\n",
        "], dtype=torch.float32)\n",
        "\n",
        "# Target values\n",
        "y_true = torch.tensor([1.0, 3.0, 4.0, 6.0], dtype=torch.float32).unsqueeze(1)\n",
        "\n",
        "# Initialize weights and bias\n",
        "w = torch.randn(2, 1, requires_grad=True)  # 2 weights\n",
        "b = torch.randn(1, requires_grad=True)     # bias\n",
        "\n",
        "# Optimizer\n",
        "optimizer = torch.optim.SGD([w, b], lr=0.1)\n",
        "\n",
        "# Training loop\n",
        "for step in range(10):\n",
        "    optimizer.zero_grad()               # Clear old gradients\n",
        "\n",
        "    y_pred = X @ w + b                  # Linear model: y = Xw + b\n",
        "    loss = ((y_pred - y_true)**2).mean()  # MSE Loss\n",
        "\n",
        "    loss.backward()                     # Compute gradients\n",
        "    optimizer.step()                     # Update weights & bias\n",
        "\n",
        "    print(f\"Step {step}: w={w.squeeze().tolist()}, b={b.item():.4f}, loss={loss.item():.4f}\")\n"
      ],
      "metadata": {
        "colab": {
          "base_uri": "https://localhost:8080/"
        },
        "id": "EZV2oFUENM9R",
        "outputId": "3c9b4903-0979-4ac5-d9bd-a09fcea54310"
      },
      "execution_count": null,
      "outputs": [
        {
          "output_type": "stream",
          "name": "stdout",
          "text": [
            "Step 0: w=[0.5675910115242004, -1.7926690578460693], b=0.7537, loss=34.5322\n",
            "Step 1: w=[0.9750955700874329, -1.2171515226364136], b=1.4255, loss=17.5372\n",
            "Step 2: w=[1.2458969354629517, -0.7867377400398254], b=1.8646, loss=9.5292\n",
            "Step 3: w=[1.4241862297058105, -0.4568166732788086], b=2.1457, loss=5.7034\n",
            "Step 4: w=[1.5400336980819702, -0.1969190090894699], b=2.3199, loss=3.8282\n",
            "Step 5: w=[1.6138901710510254, 0.013785130344331264], b=2.4216, loss=2.8666\n",
            "Step 6: w=[1.659654140472412, 0.1895543932914734], b=2.4745, loss=2.3366\n",
            "Step 7: w=[1.6867616176605225, 0.3401668071746826], b=2.4947, loss=2.0138\n",
            "Step 8: w=[1.70160973072052, 0.47234460711479187], b=2.4930, loss=1.7933\n",
            "Step 9: w=[1.708526849746704, 0.5907250046730042], b=2.4770, loss=1.6259\n"
          ]
        }
      ]
    },
    {
      "cell_type": "markdown",
      "source": [
        "✅ Key Takeaways\n",
        "\n",
        "optimizer.step() works on all parameters passed to it, not just one.\n",
        "\n",
        "Each parameter moves according to its own gradient.\n",
        "\n",
        "This is exactly how PyTorch updates millions of parameters in deep neural networks like MNIST classifiers."
      ],
      "metadata": {
        "id": "QRBK7zVdNrRQ"
      }
    },
    {
      "cell_type": "markdown",
      "source": [
        "📝 Assignment: 3-Class Classifier on Toy Data\n",
        "🔹 1. Dataset (manually create)\n",
        "\n",
        "We’ll create some fake 2D points belonging to 3 classes:\n",
        "\n",
        "Class 0 → near (0,0)\n",
        "\n",
        "Class 1 → near (5,5)\n",
        "\n",
        "Class 2 → near (0,5)"
      ],
      "metadata": {
        "id": "0WLPN4eANywQ"
      }
    },
    {
      "cell_type": "code",
      "source": [
        "import torch\n",
        "\n",
        "# Toy dataset (x,y coordinates)\n",
        "X = torch.tensor([\n",
        "    [0.1, 0.2],   # class 0\n",
        "    [0.2, -0.1],\n",
        "    [5.1, 4.9],   # class 1\n",
        "    [4.9, 5.2],\n",
        "    [0.2, 5.1],   # class 2\n",
        "    [-0.1, 4.8]\n",
        "], dtype=torch.float32)\n",
        "\n",
        "# Labels (ground truth class)\n",
        "y = torch.tensor([0, 0, 1, 1, 2, 2])\n"
      ],
      "metadata": {
        "id": "7cpLRxByNnUD"
      },
      "execution_count": null,
      "outputs": []
    },
    {
      "cell_type": "markdown",
      "source": [
        "🔹 2. Define a simple neural net"
      ],
      "metadata": {
        "id": "J83z0sSpN4wv"
      }
    },
    {
      "cell_type": "code",
      "source": [
        "import torch.nn as nn\n",
        "import torch.nn.functional as F\n",
        "\n",
        "class SimpleClassifier(nn.Module):\n",
        "    def __init__(self):\n",
        "        super().__init__()\n",
        "        self.fc1 = nn.Linear(2, 4)   # input=2 features → hidden=4\n",
        "        self.fc2 = nn.Linear(4, 3)   # hidden=4 → output=3 classes\n",
        "\n",
        "    def forward(self, x):\n",
        "        h = F.relu(self.fc1(x))\n",
        "        logits = self.fc2(h)  # raw scores (logits)\n",
        "        return logits\n"
      ],
      "metadata": {
        "id": "7DQpuua1N1pd"
      },
      "execution_count": null,
      "outputs": []
    },
    {
      "cell_type": "markdown",
      "source": [
        "🔹 3. Training"
      ],
      "metadata": {
        "id": "2uvOk3kiN-1U"
      }
    },
    {
      "cell_type": "code",
      "source": [
        "model = SimpleClassifier()\n",
        "criterion = nn.CrossEntropyLoss()  # expects logits + class labels\n",
        "optimizer = torch.optim.SGD(model.parameters(), lr=0.1)\n",
        "\n",
        "for epoch in range(50):\n",
        "    optimizer.zero_grad()\n",
        "    logits = model(X)         # raw outputs\n",
        "    loss = criterion(logits, y)\n",
        "    loss.backward()\n",
        "    optimizer.step()\n",
        "\n",
        "    if epoch % 10 == 0:\n",
        "        print(f\"Epoch {epoch}: loss={loss.item():.4f}\")\n"
      ],
      "metadata": {
        "colab": {
          "base_uri": "https://localhost:8080/"
        },
        "id": "0P78PFHPN7Ya",
        "outputId": "fd144bfd-0cc2-4c02-fcfc-5597fa9ca7a1"
      },
      "execution_count": null,
      "outputs": [
        {
          "output_type": "stream",
          "name": "stdout",
          "text": [
            "Epoch 0: loss=1.1234\n",
            "Epoch 10: loss=0.8923\n",
            "Epoch 20: loss=0.7699\n",
            "Epoch 30: loss=0.7005\n",
            "Epoch 40: loss=0.6546\n"
          ]
        }
      ]
    },
    {
      "cell_type": "markdown",
      "source": [
        "🔹 4. Testing predictions\n",
        "\n",
        "Now let’s see logits, probabilities, and argmax:"
      ],
      "metadata": {
        "id": "7M_Lo3txOLh3"
      }
    },
    {
      "cell_type": "code",
      "source": [
        "with torch.no_grad():\n",
        "    logits = model(X)\n",
        "    probs = F.softmax(logits, dim=1)   # convert to probabilities\n",
        "    preds = torch.argmax(probs, dim=1) # predicted class\n",
        "\n",
        "    print(\"Logits:\\n\", logits)\n",
        "    print(\"Probabilities:\\n\", probs)\n",
        "    print(\"Predicted classes:\\n\", preds)\n",
        "    print(\"True labels:\\n\", y)\n"
      ],
      "metadata": {
        "colab": {
          "base_uri": "https://localhost:8080/"
        },
        "id": "V1nKKsH2OA9Y",
        "outputId": "f01c4065-2b07-4eff-c9e5-480a7fae3d34"
      },
      "execution_count": null,
      "outputs": [
        {
          "output_type": "stream",
          "name": "stdout",
          "text": [
            "Logits:\n",
            " tensor([[ 0.0718,  0.0441, -0.5735],\n",
            "        [ 0.1135,  0.0987, -0.6452],\n",
            "        [ 0.1135,  0.0987, -0.6452],\n",
            "        [ 0.1135,  0.0987, -0.6452],\n",
            "        [-1.5046, -2.0187,  2.1351],\n",
            "        [-1.5132, -2.0299,  2.1499]])\n",
            "Probabilities:\n",
            " tensor([[0.4004, 0.3895, 0.2100],\n",
            "        [0.4076, 0.4016, 0.1909],\n",
            "        [0.4076, 0.4016, 0.1909],\n",
            "        [0.4076, 0.4016, 0.1909],\n",
            "        [0.0252, 0.0151, 0.9597],\n",
            "        [0.0246, 0.0147, 0.9607]])\n",
            "Predicted classes:\n",
            " tensor([0, 0, 0, 0, 2, 2])\n",
            "True labels:\n",
            " tensor([0, 0, 1, 1, 2, 2])\n"
          ]
        }
      ]
    },
    {
      "cell_type": "markdown",
      "source": [
        "Let’s start building an MNIST classifier step by step, keeping it simple but clear.\n",
        "\n",
        "\n",
        "🧠 Step 1: Load MNIST Dataset\n",
        "\n",
        "We’ll use PyTorch’s torchvision to load MNIST (handwritten digits 0–9).\n",
        "\n"
      ],
      "metadata": {
        "id": "LL7IqyszsQh-"
      }
    },
    {
      "cell_type": "code",
      "source": [
        "import torch\n",
        "import torch.nn as nn\n",
        "import torch.nn.functional as F\n",
        "import torch.optim as optim\n",
        "from torchvision import datasets, transforms\n",
        "from torch.utils.data import DataLoader"
      ],
      "metadata": {
        "id": "AsMgaG0lONuR"
      },
      "execution_count": null,
      "outputs": []
    },
    {
      "cell_type": "markdown",
      "source": [
        "Transform: convert images to tensors & normalize to [-1,1]\n",
        "\n",
        "`ToTensor` and `Normalize` in PyTorch:\n",
        "\n",
        "---\n",
        "\n",
        "## 📘 PyTorch Image Transform Notes\n",
        "\n",
        "### 🔹 `transforms.ToTensor()`\n",
        "\n",
        "* Converts **PIL image / NumPy array** → PyTorch Tensor.\n",
        "* Scales pixel values from **\\[0, 255] → \\[0, 1]** (float32).\n",
        "* Example:\n",
        "\n",
        "  ```\n",
        "  128 → 128/255 ≈ 0.5\n",
        "  ```\n",
        "\n",
        "---\n",
        "\n",
        "### 🔹 `transforms.Normalize(mean, std)`\n",
        "\n",
        "* Formula:\n",
        "\n",
        "  $$\n",
        "  x' = \\frac{x - \\mu}{\\sigma}\n",
        "  $$\n",
        "* Shifts and scales tensor values.\n",
        "* Common for grayscale MNIST:\n",
        "\n",
        "  ```python\n",
        "  transforms.Normalize((0.5,), (0.5,))\n",
        "  ```\n",
        "\n",
        "  * Moves \\[0,1] → \\[-1,1].\n",
        "\n",
        "---\n",
        "\n",
        "### 🔹 Why Normalize?\n",
        "\n",
        "1. **Centers data around 0** → faster convergence.\n",
        "2. **Prevents exploding/vanishing gradients**.\n",
        "3. Matches activation ranges (tanh \\~ \\[-1,1], ReLU >0).\n",
        "4. Standardizes input → stable training.\n",
        "\n",
        "---\n",
        "\n",
        "⚡ Rule of Thumb:\n",
        "\n",
        "* Use `ToTensor()` first (scales \\[0–255] → \\[0–1]).\n",
        "* Then `Normalize(mean, std)` (standardizes to balanced range).\n",
        "\n",
        "---\n",
        "\n",
        "Here’s your **visual cheat sheet** 🎯\n",
        "\n",
        "![image.png](data:image/png;base64,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)\n",
        "\n",
        "* **Black row** → Raw image pixels \\[0–255]\n",
        "* **Blue row** → After `ToTensor()` → \\[0–1]\n",
        "* **Red row** → After `Normalize((0.5,),(0.5,))` → \\[-1–1]\n",
        "\n",
        "This pipeline shows exactly how an MNIST image is prepared before entering a neural network.\n",
        "\n",
        "Do you want me to also create a **ready-to-save PDF cheat sheet** (with this diagram + crisp notes) so you can keep it handy while practicing?\n",
        "\n"
      ],
      "metadata": {
        "id": "CUVxcqkLsqAp"
      }
    },
    {
      "cell_type": "code",
      "source": [
        "transform = transforms.Compose([\n",
        "    transforms.ToTensor(),\n",
        "    transforms.Normalize((0.5,), (0.5,))\n",
        "])"
      ],
      "metadata": {
        "id": "HR843rgcsiOQ"
      },
      "execution_count": null,
      "outputs": []
    },
    {
      "cell_type": "markdown",
      "source": [
        "Download and load training/test data"
      ],
      "metadata": {
        "id": "RNoPfLcLsw_J"
      }
    },
    {
      "cell_type": "code",
      "source": [
        "train_dataset = datasets.MNIST(root='./data', train=True, transform=transform, download=True)\n",
        "test_dataset = datasets.MNIST(root='./data', train=False, transform=transform, download=True)"
      ],
      "metadata": {
        "colab": {
          "base_uri": "https://localhost:8080/"
        },
        "id": "yV6kmHp1svBj",
        "outputId": "b7fbc16a-791c-4c67-ac63-6887de9ae8c0"
      },
      "execution_count": null,
      "outputs": [
        {
          "output_type": "stream",
          "name": "stderr",
          "text": [
            "100%|██████████| 9.91M/9.91M [00:00<00:00, 12.6MB/s]\n",
            "100%|██████████| 28.9k/28.9k [00:00<00:00, 342kB/s]\n",
            "100%|██████████| 1.65M/1.65M [00:00<00:00, 2.74MB/s]\n",
            "100%|██████████| 4.54k/4.54k [00:00<00:00, 6.99MB/s]\n"
          ]
        }
      ]
    },
    {
      "cell_type": "code",
      "source": [
        "train_loader = DataLoader(train_dataset, batch_size=64, shuffle=True)\n",
        "test_loader = DataLoader(test_dataset, batch_size=64, shuffle=False)"
      ],
      "metadata": {
        "id": "Lzx-Tx93sxog"
      },
      "execution_count": null,
      "outputs": []
    },
    {
      "cell_type": "markdown",
      "source": [
        "🧠 Step 2: Define a Simple Network\n",
        "\n",
        "We’ll start big:\n",
        "\n",
        "Input: 28×28 = 784 pixels\n",
        "\n",
        "Hidden layers: 256 → 128\n",
        "\n",
        "Output: 10 (digits 0–9)"
      ],
      "metadata": {
        "id": "7HDQjG2NtJND"
      }
    },
    {
      "cell_type": "code",
      "source": [
        "class MnsitNet(nn.Module):\n",
        "    def __init__(self):\n",
        "        super().__init__()\n",
        "        self.fc1 = nn.Linear(784, 256)\n",
        "        self.fc2 = nn.Linear(256, 128)\n",
        "        self.fc3 = nn.Linear(128, 10)\n",
        "\n",
        "    def forward(self, x):\n",
        "        x = x.view(-1, 28*28)  # flatten input\n",
        "        x = F.relu(self.fc1(x))\n",
        "        x = F.relu(self.fc2(x))\n",
        "        logits = self.fc3(x)\n",
        "        return logits"
      ],
      "metadata": {
        "id": "bgZPnjfXtGwG"
      },
      "execution_count": null,
      "outputs": []
    },
    {
      "cell_type": "markdown",
      "source": [
        "🧠 Step 3: Training Loop"
      ],
      "metadata": {
        "id": "GJa1G-GZt9yF"
      }
    },
    {
      "cell_type": "code",
      "source": [
        "device = torch.device(\"cuda\" if torch.cuda.is_available() else \"cpu\")\n",
        "model = MnsitNet().to(device)\n",
        "criterion = nn.CrossEntropyLoss()\n",
        "optimizer = optim.SGD(model.parameters(), lr=0.01)\n",
        "\n",
        "# Training\n",
        "for epoch in range(10):\n",
        "  model.train()\n",
        "  for batch_idx, (data, target) in enumerate(train_loader):\n",
        "    data, target = data.to(device), target.to(device)\n",
        "    optimizer.zero_grad()\n",
        "    output = model(data)\n",
        "    loss = criterion(output, target)\n",
        "    loss.backward()\n",
        "    optimizer.step()\n",
        "\n",
        "    if batch_idx % 100 == 0:\n",
        "      print(f\"Epoch {epoch}, Batch {batch_idx}: loss={loss.item():.4f}\")"
      ],
      "metadata": {
        "colab": {
          "base_uri": "https://localhost:8080/"
        },
        "id": "k04q2O6CuAwZ",
        "outputId": "54650729-99fc-451e-8ee8-c145b02c0332"
      },
      "execution_count": null,
      "outputs": [
        {
          "output_type": "stream",
          "name": "stdout",
          "text": [
            "Epoch 0, Batch 0: loss=2.3100\n",
            "Epoch 0, Batch 100: loss=2.0289\n",
            "Epoch 0, Batch 200: loss=1.3464\n",
            "Epoch 0, Batch 300: loss=0.9161\n",
            "Epoch 0, Batch 400: loss=0.6929\n",
            "Epoch 0, Batch 500: loss=0.6093\n",
            "Epoch 0, Batch 600: loss=0.5090\n",
            "Epoch 0, Batch 700: loss=0.6186\n",
            "Epoch 0, Batch 800: loss=0.5269\n",
            "Epoch 0, Batch 900: loss=0.4249\n",
            "Epoch 1, Batch 0: loss=0.4046\n",
            "Epoch 1, Batch 100: loss=0.2448\n",
            "Epoch 1, Batch 200: loss=0.4302\n",
            "Epoch 1, Batch 300: loss=0.2411\n",
            "Epoch 1, Batch 400: loss=0.3239\n",
            "Epoch 1, Batch 500: loss=0.3045\n",
            "Epoch 1, Batch 600: loss=0.4854\n",
            "Epoch 1, Batch 700: loss=0.4340\n",
            "Epoch 1, Batch 800: loss=0.4130\n",
            "Epoch 1, Batch 900: loss=0.3503\n",
            "Epoch 2, Batch 0: loss=0.1470\n",
            "Epoch 2, Batch 100: loss=0.2888\n",
            "Epoch 2, Batch 200: loss=0.2309\n",
            "Epoch 2, Batch 300: loss=0.3009\n",
            "Epoch 2, Batch 400: loss=0.3158\n",
            "Epoch 2, Batch 500: loss=0.4084\n",
            "Epoch 2, Batch 600: loss=0.2205\n",
            "Epoch 2, Batch 700: loss=0.5609\n",
            "Epoch 2, Batch 800: loss=0.4065\n",
            "Epoch 2, Batch 900: loss=0.3947\n",
            "Epoch 3, Batch 0: loss=0.3504\n",
            "Epoch 3, Batch 100: loss=0.3226\n",
            "Epoch 3, Batch 200: loss=0.2687\n",
            "Epoch 3, Batch 300: loss=0.3384\n",
            "Epoch 3, Batch 400: loss=0.1459\n",
            "Epoch 3, Batch 500: loss=0.2222\n",
            "Epoch 3, Batch 600: loss=0.4283\n",
            "Epoch 3, Batch 700: loss=0.1896\n",
            "Epoch 3, Batch 800: loss=0.1890\n",
            "Epoch 3, Batch 900: loss=0.3239\n",
            "Epoch 4, Batch 0: loss=0.2276\n",
            "Epoch 4, Batch 100: loss=0.1590\n",
            "Epoch 4, Batch 200: loss=0.2618\n",
            "Epoch 4, Batch 300: loss=0.2523\n",
            "Epoch 4, Batch 400: loss=0.2524\n",
            "Epoch 4, Batch 500: loss=0.3053\n",
            "Epoch 4, Batch 600: loss=0.2917\n",
            "Epoch 4, Batch 700: loss=0.3552\n",
            "Epoch 4, Batch 800: loss=0.3872\n",
            "Epoch 4, Batch 900: loss=0.1295\n",
            "Epoch 5, Batch 0: loss=0.1994\n",
            "Epoch 5, Batch 100: loss=0.2784\n",
            "Epoch 5, Batch 200: loss=0.1112\n",
            "Epoch 5, Batch 300: loss=0.1965\n",
            "Epoch 5, Batch 400: loss=0.1326\n",
            "Epoch 5, Batch 500: loss=0.3046\n",
            "Epoch 5, Batch 600: loss=0.3201\n",
            "Epoch 5, Batch 700: loss=0.2010\n",
            "Epoch 5, Batch 800: loss=0.2219\n",
            "Epoch 5, Batch 900: loss=0.1646\n",
            "Epoch 6, Batch 0: loss=0.1818\n",
            "Epoch 6, Batch 100: loss=0.1071\n",
            "Epoch 6, Batch 200: loss=0.3794\n",
            "Epoch 6, Batch 300: loss=0.1555\n",
            "Epoch 6, Batch 400: loss=0.1343\n",
            "Epoch 6, Batch 500: loss=0.2725\n",
            "Epoch 6, Batch 600: loss=0.3655\n",
            "Epoch 6, Batch 700: loss=0.1703\n",
            "Epoch 6, Batch 800: loss=0.1176\n",
            "Epoch 6, Batch 900: loss=0.1528\n",
            "Epoch 7, Batch 0: loss=0.1117\n",
            "Epoch 7, Batch 100: loss=0.2432\n",
            "Epoch 7, Batch 200: loss=0.0892\n",
            "Epoch 7, Batch 300: loss=0.3220\n",
            "Epoch 7, Batch 400: loss=0.2488\n",
            "Epoch 7, Batch 500: loss=0.0720\n",
            "Epoch 7, Batch 600: loss=0.1545\n",
            "Epoch 7, Batch 700: loss=0.2044\n",
            "Epoch 7, Batch 800: loss=0.1478\n",
            "Epoch 7, Batch 900: loss=0.1988\n",
            "Epoch 8, Batch 0: loss=0.3074\n",
            "Epoch 8, Batch 100: loss=0.2345\n",
            "Epoch 8, Batch 200: loss=0.0953\n",
            "Epoch 8, Batch 300: loss=0.2067\n",
            "Epoch 8, Batch 400: loss=0.2278\n",
            "Epoch 8, Batch 500: loss=0.1267\n",
            "Epoch 8, Batch 600: loss=0.0419\n",
            "Epoch 8, Batch 700: loss=0.1687\n",
            "Epoch 8, Batch 800: loss=0.2348\n",
            "Epoch 8, Batch 900: loss=0.1370\n",
            "Epoch 9, Batch 0: loss=0.1533\n",
            "Epoch 9, Batch 100: loss=0.1772\n",
            "Epoch 9, Batch 200: loss=0.1352\n",
            "Epoch 9, Batch 300: loss=0.1118\n",
            "Epoch 9, Batch 400: loss=0.1210\n",
            "Epoch 9, Batch 500: loss=0.2988\n",
            "Epoch 9, Batch 600: loss=0.0810\n",
            "Epoch 9, Batch 700: loss=0.1020\n",
            "Epoch 9, Batch 800: loss=0.1526\n",
            "Epoch 9, Batch 900: loss=0.1314\n"
          ]
        }
      ]
    },
    {
      "cell_type": "markdown",
      "source": [
        "🧠 Step 4: Testing"
      ],
      "metadata": {
        "id": "G0ibYkhKt4Q3"
      }
    },
    {
      "cell_type": "code",
      "source": [
        "def test(model, test_loader):\n",
        "    model.eval()\n",
        "    correct = 0\n",
        "    total = 0\n",
        "    with torch.no_grad():\n",
        "      for data, target in test_loader:\n",
        "        data, target = data.to(device), target.to(device)\n",
        "        logits = model(data)\n",
        "        preds = torch.argmax(logits, dim=1)\n",
        "        total += target.size(0)\n",
        "        correct += (preds == target).sum().item()\n",
        "    print(f\"Accuracy: {100 * correct / total:.2f}%\")\n",
        "test(model, test_loader)"
      ],
      "metadata": {
        "colab": {
          "base_uri": "https://localhost:8080/"
        },
        "id": "9D9_Xe69tKWP",
        "outputId": "90d7ab01-95d7-4726-c533-1a9fbf1b7c8d"
      },
      "execution_count": null,
      "outputs": [
        {
          "output_type": "stream",
          "name": "stdout",
          "text": [
            "Accuracy: 95.12%\n"
          ]
        }
      ]
    },
    {
      "cell_type": "code",
      "source": [
        "sum(p.numel() for p in model.parameters())"
      ],
      "metadata": {
        "colab": {
          "base_uri": "https://localhost:8080/"
        },
        "id": "pvOgF6z2vHum",
        "outputId": "a1b1ea0a-ac3f-4d4c-a4a8-dd5ad46d07c4"
      },
      "execution_count": null,
      "outputs": [
        {
          "output_type": "execute_result",
          "data": {
            "text/plain": [
              "235146"
            ]
          },
          "metadata": {},
          "execution_count": 10
        }
      ]
    },
    {
      "cell_type": "markdown",
      "source": [
        "Shrink model"
      ],
      "metadata": {
        "id": "K_1evkEvyiC-"
      }
    },
    {
      "cell_type": "code",
      "source": [
        "class SmallNet(nn.Module):\n",
        "    def __init__(self):\n",
        "        super().__init__()\n",
        "        self.fc1 = nn.Linear(784, 128)\n",
        "        self.fc2 = nn.Linear(128, 64)\n",
        "        self.fc3 = nn.Linear(64, 10)\n",
        "\n",
        "    def forward(self, x):\n",
        "        x = x.view(-1, 28*28)\n",
        "        x = F.relu(self.fc1(x))\n",
        "        x = F.relu(self.fc2(x))\n",
        "        return self.fc3(x)"
      ],
      "metadata": {
        "id": "NMRfx-xIvO1X"
      },
      "execution_count": null,
      "outputs": []
    },
    {
      "cell_type": "code",
      "source": [
        "model = SmallNet()\n",
        "\n",
        "sum(p.numel() for p in model.parameters())"
      ],
      "metadata": {
        "colab": {
          "base_uri": "https://localhost:8080/"
        },
        "id": "AVw-Nocnyjbb",
        "outputId": "1ebe4c43-955e-4438-b9d0-fd7f53a47974"
      },
      "execution_count": null,
      "outputs": [
        {
          "output_type": "execute_result",
          "data": {
            "text/plain": [
              "109386"
            ]
          },
          "metadata": {},
          "execution_count": 14
        }
      ]
    },
    {
      "cell_type": "code",
      "source": [
        "device = torch.device(\"cuda\" if torch.cuda.is_available() else \"cpu\")\n",
        "model = SmallNet().to(device)\n",
        "\n",
        "criterion = nn.CrossEntropyLoss()\n",
        "optimizer = optim.SGD(model.parameters(), lr=0.01)\n",
        "\n",
        "# Training\n",
        "for epoch in range(10):\n",
        "  model.train()\n",
        "  for batch_idx, (data, target) in enumerate(train_loader):\n",
        "    data, target = data.to(device), target.to(device)\n",
        "    optimizer.zero_grad()\n",
        "    output = model(data)\n",
        "    loss = criterion(output, target)\n",
        "    loss.backward()\n",
        "    optimizer.step()\n",
        "\n",
        "    if batch_idx % 100 == 0:\n",
        "      print(f\"Epoch {epoch}, Batch {batch_idx}: loss={loss.item():.4f}\")"
      ],
      "metadata": {
        "colab": {
          "base_uri": "https://localhost:8080/"
        },
        "id": "nI2UGEodykih",
        "outputId": "87ec2dd5-cd17-4770-b00e-dc91edd748a3"
      },
      "execution_count": null,
      "outputs": [
        {
          "output_type": "stream",
          "name": "stdout",
          "text": [
            "Epoch 0, Batch 0: loss=2.3337\n",
            "Epoch 0, Batch 100: loss=2.1522\n",
            "Epoch 0, Batch 200: loss=1.8180\n",
            "Epoch 0, Batch 300: loss=1.1566\n",
            "Epoch 0, Batch 400: loss=0.7812\n",
            "Epoch 0, Batch 500: loss=0.7019\n",
            "Epoch 0, Batch 600: loss=0.8394\n",
            "Epoch 0, Batch 700: loss=0.5050\n",
            "Epoch 0, Batch 800: loss=0.7973\n",
            "Epoch 0, Batch 900: loss=0.4407\n",
            "Epoch 1, Batch 0: loss=0.3421\n",
            "Epoch 1, Batch 100: loss=0.4143\n",
            "Epoch 1, Batch 200: loss=0.4458\n",
            "Epoch 1, Batch 300: loss=0.5615\n",
            "Epoch 1, Batch 400: loss=0.4304\n",
            "Epoch 1, Batch 500: loss=0.5232\n",
            "Epoch 1, Batch 600: loss=0.3825\n",
            "Epoch 1, Batch 700: loss=0.3104\n",
            "Epoch 1, Batch 800: loss=0.6359\n",
            "Epoch 1, Batch 900: loss=0.5030\n",
            "Epoch 2, Batch 0: loss=0.4165\n",
            "Epoch 2, Batch 100: loss=0.3254\n",
            "Epoch 2, Batch 200: loss=0.4116\n",
            "Epoch 2, Batch 300: loss=0.2138\n",
            "Epoch 2, Batch 400: loss=0.3941\n",
            "Epoch 2, Batch 500: loss=0.4403\n",
            "Epoch 2, Batch 600: loss=0.8958\n",
            "Epoch 2, Batch 700: loss=0.3227\n",
            "Epoch 2, Batch 800: loss=0.3307\n",
            "Epoch 2, Batch 900: loss=0.3105\n",
            "Epoch 3, Batch 0: loss=0.1797\n",
            "Epoch 3, Batch 100: loss=0.3700\n",
            "Epoch 3, Batch 200: loss=0.3032\n",
            "Epoch 3, Batch 300: loss=0.4027\n",
            "Epoch 3, Batch 400: loss=0.2428\n",
            "Epoch 3, Batch 500: loss=0.2175\n",
            "Epoch 3, Batch 600: loss=0.2489\n",
            "Epoch 3, Batch 700: loss=0.4589\n",
            "Epoch 3, Batch 800: loss=0.4223\n",
            "Epoch 3, Batch 900: loss=0.3315\n",
            "Epoch 4, Batch 0: loss=0.1870\n",
            "Epoch 4, Batch 100: loss=0.1768\n",
            "Epoch 4, Batch 200: loss=0.1901\n",
            "Epoch 4, Batch 300: loss=0.2335\n",
            "Epoch 4, Batch 400: loss=0.2517\n",
            "Epoch 4, Batch 500: loss=0.2617\n",
            "Epoch 4, Batch 600: loss=0.4560\n",
            "Epoch 4, Batch 700: loss=0.2616\n",
            "Epoch 4, Batch 800: loss=0.1984\n",
            "Epoch 4, Batch 900: loss=0.4263\n",
            "Epoch 5, Batch 0: loss=0.2288\n",
            "Epoch 5, Batch 100: loss=0.2791\n",
            "Epoch 5, Batch 200: loss=0.4090\n",
            "Epoch 5, Batch 300: loss=0.3203\n",
            "Epoch 5, Batch 400: loss=0.2463\n",
            "Epoch 5, Batch 500: loss=0.3976\n",
            "Epoch 5, Batch 600: loss=0.3350\n",
            "Epoch 5, Batch 700: loss=0.3077\n",
            "Epoch 5, Batch 800: loss=0.2131\n",
            "Epoch 5, Batch 900: loss=0.2153\n",
            "Epoch 6, Batch 0: loss=0.2970\n",
            "Epoch 6, Batch 100: loss=0.2892\n",
            "Epoch 6, Batch 200: loss=0.2883\n",
            "Epoch 6, Batch 300: loss=0.1439\n",
            "Epoch 6, Batch 400: loss=0.1758\n",
            "Epoch 6, Batch 500: loss=0.4266\n",
            "Epoch 6, Batch 600: loss=0.1160\n",
            "Epoch 6, Batch 700: loss=0.1132\n",
            "Epoch 6, Batch 800: loss=0.2361\n",
            "Epoch 6, Batch 900: loss=0.2852\n",
            "Epoch 7, Batch 0: loss=0.2222\n",
            "Epoch 7, Batch 100: loss=0.1263\n",
            "Epoch 7, Batch 200: loss=0.2879\n",
            "Epoch 7, Batch 300: loss=0.2629\n",
            "Epoch 7, Batch 400: loss=0.2234\n",
            "Epoch 7, Batch 500: loss=0.2577\n",
            "Epoch 7, Batch 600: loss=0.0915\n",
            "Epoch 7, Batch 700: loss=0.2033\n",
            "Epoch 7, Batch 800: loss=0.2188\n",
            "Epoch 7, Batch 900: loss=0.2287\n",
            "Epoch 8, Batch 0: loss=0.2652\n",
            "Epoch 8, Batch 100: loss=0.1900\n",
            "Epoch 8, Batch 200: loss=0.2155\n",
            "Epoch 8, Batch 300: loss=0.1287\n",
            "Epoch 8, Batch 400: loss=0.2757\n",
            "Epoch 8, Batch 500: loss=0.4122\n",
            "Epoch 8, Batch 600: loss=0.1672\n",
            "Epoch 8, Batch 700: loss=0.0718\n",
            "Epoch 8, Batch 800: loss=0.1813\n",
            "Epoch 8, Batch 900: loss=0.1367\n",
            "Epoch 9, Batch 0: loss=0.1541\n",
            "Epoch 9, Batch 100: loss=0.1002\n",
            "Epoch 9, Batch 200: loss=0.0993\n",
            "Epoch 9, Batch 300: loss=0.1109\n",
            "Epoch 9, Batch 400: loss=0.2694\n",
            "Epoch 9, Batch 500: loss=0.2218\n",
            "Epoch 9, Batch 600: loss=0.3602\n",
            "Epoch 9, Batch 700: loss=0.1407\n",
            "Epoch 9, Batch 800: loss=0.1263\n",
            "Epoch 9, Batch 900: loss=0.4875\n"
          ]
        }
      ]
    },
    {
      "cell_type": "code",
      "source": [
        "def test(model, test_loader):\n",
        "    model.eval()\n",
        "    correct = 0\n",
        "    total = 0\n",
        "    with torch.no_grad():\n",
        "      for data, target in test_loader:\n",
        "        data, target = data.to(device), target.to(device)\n",
        "        logits = model(data)\n",
        "        preds = torch.argmax(logits, dim=1)\n",
        "        total += target.size(0)\n",
        "        correct += (preds == target).sum().item()\n",
        "    print(f\"Accuracy: {100 * correct / total:.2f}%\")\n",
        "test(model, test_loader)"
      ],
      "metadata": {
        "colab": {
          "base_uri": "https://localhost:8080/"
        },
        "id": "yafkzS2UzDY6",
        "outputId": "50eb3e95-43fd-40b9-8bfa-b4a0b5ffb6e0"
      },
      "execution_count": null,
      "outputs": [
        {
          "output_type": "stream",
          "name": "stdout",
          "text": [
            "Accuracy: 95.07%\n"
          ]
        }
      ]
    },
    {
      "cell_type": "markdown",
      "source": [
        "🔥 Nice! That’s a solid result — **95.07% accuracy** on MNIST with your custom **3-layer fully connected network** (`784 → 256 → 128 → 10`).\n",
        "\n",
        "Let’s break it down in context:\n",
        "\n",
        "---\n",
        "\n",
        "### ✅ What this means\n",
        "\n",
        "* **95%+ accuracy** is strong for such a simple feed-forward (fully connected) architecture.\n",
        "* You reached this with only \\~270k parameters, which is relatively lightweight compared to convolutional networks.\n",
        "* The model learned well despite not using CNNs (which typically push MNIST to 98–99%).\n",
        "\n",
        "---\n",
        "\n",
        "### 📊 Compared to CNN-based MNIST models\n",
        "\n",
        "* CNNs exploit **spatial patterns** in images → usually give **98–99% accuracy**.\n",
        "* Your fully connected model treats pixels independently (loses spatial info) → caps around **95–96%**.\n",
        "* Still, your network is much simpler and faster to train.\n",
        "\n",
        "---\n",
        "\n",
        "### 🚀 Next steps (if you want to improve further)\n",
        "\n",
        "1. **Add Dropout** → helps prevent overfitting, may stabilize test accuracy.\n",
        "2. **BatchNorm** → can improve convergence and accuracy.\n",
        "3. **CNN Layer** → even a single conv layer before the dense part can push accuracy up to \\~98%.\n",
        "4. **Tune hidden sizes** → e.g. 512 → 256 → 128 → 10 might squeeze an extra 1%.\n",
        "\n",
        "---\n",
        "\n"
      ],
      "metadata": {
        "id": "t1YJu3pC183S"
      }
    },
    {
      "cell_type": "code",
      "source": [],
      "metadata": {
        "id": "oIIyuKRdz4Cy"
      },
      "execution_count": null,
      "outputs": []
    },
    {
      "cell_type": "markdown",
      "source": [
        "First the **simple explanation**, then the **technical explanation with terms**. This way you can read the first one for intuition, and the second one for vocabulary + deeper understanding.\n",
        "\n",
        "---\n",
        "\n",
        "# 🟢 Version 1: Simple Terms (Intuition)\n",
        "\n",
        "### Why your network works (95% accuracy)\n",
        "\n",
        "* Your network is a simple **stack of layers**:\n",
        "\n",
        "  * First layer: takes **784 pixels** (28×28 image flattened) → 256 numbers\n",
        "  * Second layer: takes 256 → 128 numbers\n",
        "  * Final layer: takes 128 → 10 numbers (one score for each digit 0–9)\n",
        "* After each step, you use **ReLU activation** so the network learns non-linear patterns.\n",
        "* The output is **logits** (raw scores), later passed through **softmax** to make probabilities.\n",
        "* Since the image is flattened, the model doesn’t “see” spatial patterns like edges or curves, so accuracy is about **95%**, not as high as CNNs.\n",
        "\n",
        "---\n",
        "\n",
        "### What is Dropout?\n",
        "\n",
        "* Imagine a class where some students are randomly **not allowed to answer** in each round.\n",
        "* This forces all students to learn, not just a few.\n",
        "* Similarly, Dropout randomly **turns off some neurons** while training → prevents the network from depending too much on certain neurons.\n",
        "\n",
        "---\n",
        "\n",
        "### What is Batch Normalization?\n",
        "\n",
        "* Imagine you give **every student the same level of energy (focus)** before the class starts.\n",
        "* BatchNorm does this by keeping activations balanced → mean close to **0**, variance close to **1**.\n",
        "* This makes training **faster and more stable**.\n",
        "\n",
        "---\n",
        "\n",
        "### Together\n",
        "\n",
        "* **Dropout** = avoid overfitting, generalize better.\n",
        "* **BatchNorm** = keep learning stable, speed up training.\n",
        "\n",
        "---\n",
        "\n",
        "# 🟢 Version 2: Technical Terms\n",
        "\n",
        "### Why your network works (95% accuracy)\n",
        "\n",
        "* Architecture: **Fully Connected Neural Network (FCN / MLP)** with:\n",
        "\n",
        "  * `fc1`: Linear(784 → 256)\n",
        "  * `fc2`: Linear(256 → 128)\n",
        "  * `fc3`: Linear(128 → 10)\n",
        "  * Activations: **ReLU** after `fc1` and `fc2`\n",
        "* The input image is **flattened** into a 1D vector, so no **spatial locality** is preserved.\n",
        "* Accuracy is limited (\\~95%) compared to **Convolutional Neural Networks (CNNs)** that exploit spatial structure (\\~98–99%).\n",
        "\n",
        "---\n",
        "\n",
        "### Dropout\n",
        "\n",
        "* A **regularization technique** that randomly sets a fraction of activations to **0** during training.\n",
        "* Controlled by **hyperparameter `p`** (probability of dropout, e.g. 0.5).\n",
        "* Prevents **co-adaptation of neurons**.\n",
        "* Disabled during inference; weights are scaled appropriately.\n",
        "\n",
        "👉 Reduces **overfitting**, improves **generalization**.\n",
        "\n",
        "---\n",
        "\n",
        "### Batch Normalization\n",
        "\n",
        "* A **normalization technique** applied to layer activations:\n",
        "\n",
        "  $$\n",
        "  \\hat{x} = \\frac{x - \\mu}{\\sqrt{\\sigma^2 + \\epsilon}}, \\quad y = \\gamma \\hat{x} + \\beta\n",
        "  $$\n",
        "\n",
        "  where μ = mean, σ² = variance, γ = learnable scale, β = learnable shift.\n",
        "* Reduces **internal covariate shift** (shifting distributions across layers).\n",
        "* Leads to **faster convergence** and **smoother gradients**.\n",
        "\n",
        "---\n",
        "\n",
        "### Combined Example\n",
        "\n",
        "```python\n",
        "self.fc1 = nn.Linear(784, 256)\n",
        "self.bn1 = nn.BatchNorm1d(256)\n",
        "self.dropout = nn.Dropout(0.5)\n",
        "\n",
        "x = F.relu(self.bn1(self.fc1(x)))\n",
        "x = self.dropout(x)\n",
        "```\n",
        "\n",
        "---\n",
        "\n",
        "✅ So you now have both:\n",
        "\n",
        "* **Version 1 (intuition)** → everyday analogy, easy to remember.\n",
        "* **Version 2 (technical)** → correct ML vocabulary, deeper understanding.\n",
        "\n",
        "---\n",
        "\n"
      ],
      "metadata": {
        "id": "fwcY9VYP2Kya"
      }
    },
    {
      "cell_type": "code",
      "source": [
        "class SmallNet(nn.Module):\n",
        "    def __init__(self):\n",
        "        super().__init__()\n",
        "        self.fc1 = nn.Linear(784, 256)\n",
        "        self.bn1 = nn.BatchNorm1d(256)\n",
        "        self.fc2 = nn.Linear(256, 128)\n",
        "        self.fc3 = nn.Linear(128, 10)\n",
        "\n",
        "    def forward(self, x):\n",
        "        x = x.view(-1, 28*28)\n",
        "        x = F.relu(self.bn1(self.fc1(x)))\n",
        "        x = F.relu(self.fc2(x))\n",
        "        return self.fc3(x)"
      ],
      "metadata": {
        "id": "BVviW2Y22OY_"
      },
      "execution_count": null,
      "outputs": []
    },
    {
      "cell_type": "code",
      "source": [
        "device = torch.device(\"cuda\" if torch.cuda.is_available() else \"cpu\")\n",
        "model = SmallNet().to(device)\n",
        "\n",
        "criterion = nn.CrossEntropyLoss()\n",
        "optimizer = optim.SGD(model.parameters(), lr=0.01)\n",
        "\n",
        "# Training\n",
        "for epoch in range(10):\n",
        "  model.train()\n",
        "  for batch_idx, (data, target) in enumerate(train_loader):\n",
        "    data, target = data.to(device), target.to(device)\n",
        "    optimizer.zero_grad()\n",
        "    output = model(data)\n",
        "    loss = criterion(output, target)\n",
        "    loss.backward()\n",
        "    optimizer.step()\n",
        "\n",
        "    if batch_idx % 100 == 0:\n",
        "      print(f\"Epoch {epoch}, Batch {batch_idx}: loss={loss.item():.4f}\")"
      ],
      "metadata": {
        "colab": {
          "base_uri": "https://localhost:8080/"
        },
        "id": "z26U0MgL7cZa",
        "outputId": "093ecaa0-a99e-4c0e-d312-8488584fd691"
      },
      "execution_count": null,
      "outputs": [
        {
          "output_type": "stream",
          "name": "stdout",
          "text": [
            "Epoch 0, Batch 0: loss=2.3107\n",
            "Epoch 0, Batch 100: loss=1.6228\n",
            "Epoch 0, Batch 200: loss=1.0452\n",
            "Epoch 0, Batch 300: loss=0.5839\n",
            "Epoch 0, Batch 400: loss=0.6797\n",
            "Epoch 0, Batch 500: loss=0.4358\n",
            "Epoch 0, Batch 600: loss=0.4458\n",
            "Epoch 0, Batch 700: loss=0.3497\n",
            "Epoch 0, Batch 800: loss=0.3822\n",
            "Epoch 0, Batch 900: loss=0.2755\n",
            "Epoch 1, Batch 0: loss=0.2874\n",
            "Epoch 1, Batch 100: loss=0.3722\n",
            "Epoch 1, Batch 200: loss=0.1894\n",
            "Epoch 1, Batch 300: loss=0.2846\n",
            "Epoch 1, Batch 400: loss=0.5022\n",
            "Epoch 1, Batch 500: loss=0.2958\n",
            "Epoch 1, Batch 600: loss=0.1702\n",
            "Epoch 1, Batch 700: loss=0.2594\n",
            "Epoch 1, Batch 800: loss=0.1993\n",
            "Epoch 1, Batch 900: loss=0.2870\n",
            "Epoch 2, Batch 0: loss=0.2790\n",
            "Epoch 2, Batch 100: loss=0.1607\n",
            "Epoch 2, Batch 200: loss=0.3029\n",
            "Epoch 2, Batch 300: loss=0.2587\n",
            "Epoch 2, Batch 400: loss=0.1264\n",
            "Epoch 2, Batch 500: loss=0.1317\n",
            "Epoch 2, Batch 600: loss=0.1941\n",
            "Epoch 2, Batch 700: loss=0.0912\n",
            "Epoch 2, Batch 800: loss=0.0684\n",
            "Epoch 2, Batch 900: loss=0.2246\n",
            "Epoch 3, Batch 0: loss=0.0861\n",
            "Epoch 3, Batch 100: loss=0.2387\n",
            "Epoch 3, Batch 200: loss=0.2456\n",
            "Epoch 3, Batch 300: loss=0.1203\n",
            "Epoch 3, Batch 400: loss=0.3527\n",
            "Epoch 3, Batch 500: loss=0.2127\n",
            "Epoch 3, Batch 600: loss=0.1435\n",
            "Epoch 3, Batch 700: loss=0.3114\n",
            "Epoch 3, Batch 800: loss=0.0733\n",
            "Epoch 3, Batch 900: loss=0.0965\n",
            "Epoch 4, Batch 0: loss=0.2000\n",
            "Epoch 4, Batch 100: loss=0.0923\n",
            "Epoch 4, Batch 200: loss=0.1389\n",
            "Epoch 4, Batch 300: loss=0.0766\n",
            "Epoch 4, Batch 400: loss=0.1613\n",
            "Epoch 4, Batch 500: loss=0.0709\n",
            "Epoch 4, Batch 600: loss=0.2115\n",
            "Epoch 4, Batch 700: loss=0.0875\n",
            "Epoch 4, Batch 800: loss=0.1997\n",
            "Epoch 4, Batch 900: loss=0.0664\n",
            "Epoch 5, Batch 0: loss=0.1205\n",
            "Epoch 5, Batch 100: loss=0.1006\n",
            "Epoch 5, Batch 200: loss=0.3885\n",
            "Epoch 5, Batch 300: loss=0.1516\n",
            "Epoch 5, Batch 400: loss=0.0572\n",
            "Epoch 5, Batch 500: loss=0.1726\n",
            "Epoch 5, Batch 600: loss=0.0752\n",
            "Epoch 5, Batch 700: loss=0.2233\n",
            "Epoch 5, Batch 800: loss=0.0846\n",
            "Epoch 5, Batch 900: loss=0.0458\n",
            "Epoch 6, Batch 0: loss=0.0818\n",
            "Epoch 6, Batch 100: loss=0.0773\n",
            "Epoch 6, Batch 200: loss=0.0313\n",
            "Epoch 6, Batch 300: loss=0.1515\n",
            "Epoch 6, Batch 400: loss=0.0755\n",
            "Epoch 6, Batch 500: loss=0.0213\n",
            "Epoch 6, Batch 600: loss=0.0533\n",
            "Epoch 6, Batch 700: loss=0.0923\n",
            "Epoch 6, Batch 800: loss=0.1152\n",
            "Epoch 6, Batch 900: loss=0.1537\n",
            "Epoch 7, Batch 0: loss=0.0872\n",
            "Epoch 7, Batch 100: loss=0.0892\n",
            "Epoch 7, Batch 200: loss=0.1491\n",
            "Epoch 7, Batch 300: loss=0.0300\n",
            "Epoch 7, Batch 400: loss=0.1808\n",
            "Epoch 7, Batch 500: loss=0.0307\n",
            "Epoch 7, Batch 600: loss=0.0934\n",
            "Epoch 7, Batch 700: loss=0.0856\n",
            "Epoch 7, Batch 800: loss=0.0611\n",
            "Epoch 7, Batch 900: loss=0.0976\n",
            "Epoch 8, Batch 0: loss=0.2008\n",
            "Epoch 8, Batch 100: loss=0.0681\n",
            "Epoch 8, Batch 200: loss=0.0690\n",
            "Epoch 8, Batch 300: loss=0.0707\n",
            "Epoch 8, Batch 400: loss=0.1199\n",
            "Epoch 8, Batch 500: loss=0.0437\n",
            "Epoch 8, Batch 600: loss=0.1021\n",
            "Epoch 8, Batch 700: loss=0.0805\n",
            "Epoch 8, Batch 800: loss=0.0361\n",
            "Epoch 8, Batch 900: loss=0.0500\n",
            "Epoch 9, Batch 0: loss=0.0862\n",
            "Epoch 9, Batch 100: loss=0.0461\n",
            "Epoch 9, Batch 200: loss=0.1070\n",
            "Epoch 9, Batch 300: loss=0.0395\n",
            "Epoch 9, Batch 400: loss=0.0520\n",
            "Epoch 9, Batch 500: loss=0.0945\n",
            "Epoch 9, Batch 600: loss=0.0460\n",
            "Epoch 9, Batch 700: loss=0.0857\n",
            "Epoch 9, Batch 800: loss=0.0835\n",
            "Epoch 9, Batch 900: loss=0.0605\n"
          ]
        }
      ]
    },
    {
      "cell_type": "code",
      "source": [
        "def test(model, test_loader):\n",
        "    model.eval()\n",
        "    correct = 0\n",
        "    total = 0\n",
        "    with torch.no_grad():\n",
        "      for data, target in test_loader:\n",
        "        data, target = data.to(device), target.to(device)\n",
        "        logits = model(data)\n",
        "        preds = torch.argmax(logits, dim=1)\n",
        "        total += target.size(0)\n",
        "        correct += (preds == target).sum().item()\n",
        "    print(f\"Accuracy: {100 * correct / total:.2f}%\")\n",
        "test(model, test_loader)"
      ],
      "metadata": {
        "colab": {
          "base_uri": "https://localhost:8080/"
        },
        "id": "2o6hGWxl7fjG",
        "outputId": "681024c2-e837-4e7e-be2b-fef8eeb76039"
      },
      "execution_count": null,
      "outputs": [
        {
          "output_type": "stream",
          "name": "stdout",
          "text": [
            "Accuracy: 97.61%\n"
          ]
        }
      ]
    },
    {
      "cell_type": "markdown",
      "source": [
        "Let’s break it down in **simple terms** first, then in **technical detail**.\n",
        "\n",
        "---\n",
        "\n",
        "# 🟢 Simple Terms (Intuition)\n",
        "\n",
        "* Imagine you’re cooking rice.\n",
        "* **BatchNorm** = washing the rice → removes excess starch, makes grains balanced.\n",
        "* **ReLU** = cooking the rice → turns it edible (non-linear, adds flavor).\n",
        "\n",
        "If you cook first and wash later, it makes no sense. Same with networks:\n",
        "\n",
        "* If you apply ReLU first, all negative values become **0** → BatchNorm has less information to normalize.\n",
        "* If you apply BatchNorm first, it balances values (mean \\~0, variance \\~1), then ReLU can cut off the negatives properly.\n",
        "\n",
        "👉 That’s why the order is:\n",
        "**Linear → BatchNorm → ReLU**\n",
        "\n",
        "---\n",
        "\n",
        "# 🟢 Technical Terms (ML Explanation)\n",
        "\n",
        "* A **Linear layer** outputs unbounded values.\n",
        "\n",
        "* **BatchNorm** normalizes these activations:\n",
        "\n",
        "  $$\n",
        "  \\hat{x} = \\frac{x - \\mu}{\\sqrt{\\sigma^2 + \\epsilon}}\n",
        "  $$\n",
        "\n",
        "  then scales & shifts with γ, β.\n",
        "\n",
        "  * After normalization: activations are centered (μ ≈ 0) and scaled (σ² ≈ 1).\n",
        "\n",
        "* **ReLU**: $f(x) = \\max(0, x)$.\n",
        "\n",
        "  * If BatchNorm comes first → distribution is balanced around 0, so ReLU passes \\~50% of values (positive ones) and kills \\~50% (negative ones).\n",
        "  * If ReLU comes first → negative values are already **0**, BatchNorm sees only positives, normalization loses its effect, and gradients become skewed.\n",
        "\n",
        "👉 Correct flow:\n",
        "\n",
        "$$\n",
        "\\text{Linear} \\;\\;\\to\\;\\; \\text{BatchNorm} \\;\\;\\to\\;\\; \\text{ReLU}\n",
        "$$\n",
        "\n",
        "---\n",
        "\n",
        "⚡ In short:\n",
        "\n",
        "* **BN before ReLU** → keeps distributions stable, ensures proper gradient flow.\n",
        "* **BN after ReLU** → less effective, may kill useful info.\n"
      ],
      "metadata": {
        "id": "h4X72paN8mJb"
      }
    },
    {
      "cell_type": "markdown",
      "source": [
        "---\n",
        "\n",
        "### **1️⃣ What your current code does**\n",
        "\n",
        "```python\n",
        "class SmallNet(nn.Module):\n",
        "    def __init__(self):\n",
        "        super().__init__()\n",
        "        self.fc1 = nn.Linear(784, 256)\n",
        "        self.bn1 = nn.BatchNorm1d(256)\n",
        "        self.fc2 = nn.Linear(256, 128)\n",
        "        self.fc3 = nn.Linear(128, 10)\n",
        "\n",
        "    def forward(self, x):\n",
        "        x = x.view(-1, 28*28)\n",
        "        x = F.relu(self.bn1(self.fc1(x)))\n",
        "        x = F.relu(self.fc2(x))\n",
        "        return self.fc3(x)\n",
        "```\n",
        "\n",
        "* **`fc1` (784 → 256):** First fully connected layer. Converts flattened 28×28 image (784) to 256 features.\n",
        "* **`bn1` (BatchNorm1d):** Normalizes the output of `fc1`. Helps training converge faster and can improve final accuracy.\n",
        "* **`fc2` (256 → 128):** Second fully connected layer. Reduces features to 128.\n",
        "* **`fc3` (128 → 10):** Output layer (10 classes for MNIST).\n",
        "* **`forward()`**:\n",
        "\n",
        "  * `x.view(-1, 28*28)` flattens the image.\n",
        "  * `F.relu(self.bn1(self.fc1(x)))` → applies linear transform, batch norm, then ReLU.\n",
        "  * `F.relu(self.fc2(x))` → applies linear transform + ReLU.\n",
        "  * Output layer returns raw scores (logits).\n",
        "\n",
        "✅ **Everything is correct. BatchNorm is applied properly.**\n",
        "\n",
        "---\n",
        "\n",
        "### **2️⃣ What you could do next**\n",
        "\n",
        "1. **Add BatchNorm to `fc2` as well**\n",
        "\n",
        "   * You only applied BN to `fc1`. Adding BN after `fc2` can further stabilize training.\n",
        "\n",
        "   ```python\n",
        "   self.bn2 = nn.BatchNorm1d(128)\n",
        "   ```\n",
        "\n",
        "   And in `forward()`:\n",
        "\n",
        "   ```python\n",
        "   x = F.relu(self.bn2(self.fc2(x)))\n",
        "   ```\n",
        "\n",
        "2. **Add Dropout**\n",
        "\n",
        "   * Helps prevent overfitting, especially if your training accuracy is much higher than test accuracy.\n",
        "\n",
        "   ```python\n",
        "   self.dropout = nn.Dropout(0.2)  # 20% dropout\n",
        "   ```\n",
        "\n",
        "   In forward:\n",
        "\n",
        "   ```python\n",
        "   x = self.dropout(F.relu(self.bn1(self.fc1(x))))\n",
        "   x = self.dropout(F.relu(self.bn2(self.fc2(x))))\n",
        "   ```\n",
        "\n",
        "3. **Experiment with hidden sizes**\n",
        "\n",
        "   * You can try `512 → 256 → 128 → 10` instead of `256 → 128 → 10` to see if accuracy improves.\n",
        "\n",
        "4. **Try different activation functions**\n",
        "\n",
        "   * ReLU works well, but LeakyReLU or GELU sometimes improve convergence slightly.\n",
        "\n",
        "5. **Learning rate and optimizer tuning**\n",
        "\n",
        "   * Using `Adam` with `lr=0.001` is standard. Try `0.0005` or `0.002` and observe the effect.\n",
        "\n",
        "6. **Early stopping or training for more epochs**\n",
        "\n",
        "   * If accuracy plateaus, consider training a few more epochs with a smaller learning rate.\n",
        "\n",
        "---\n",
        "\n",
        "### **3️⃣ Example of an improved SmallNet with BN + Dropout**\n",
        "\n",
        "```python\n",
        "class SmallNetImproved(nn.Module):\n",
        "    def __init__(self):\n",
        "        super().__init__()\n",
        "        self.fc1 = nn.Linear(784, 256)\n",
        "        self.bn1 = nn.BatchNorm1d(256)\n",
        "        self.fc2 = nn.Linear(256, 128)\n",
        "        self.bn2 = nn.BatchNorm1d(128)\n",
        "        self.fc3 = nn.Linear(128, 10)\n",
        "        self.dropout = nn.Dropout(0.2)\n",
        "\n",
        "    def forward(self, x):\n",
        "        x = x.view(-1, 28*28)\n",
        "        x = self.dropout(F.relu(self.bn1(self.fc1(x))))\n",
        "        x = self.dropout(F.relu(self.bn2(self.fc2(x))))\n",
        "        return self.fc3(x)\n",
        "```\n",
        "\n",
        "✅ This is a clean, fully connected model with:\n",
        "\n",
        "* BatchNorm in both hidden layers\n",
        "* Dropout to reduce overfitting\n",
        "\n",
        "---\n",
        "\n",
        "### **4️⃣ Next learning steps for you**\n",
        "\n",
        "* Understand **why BatchNorm + Dropout works**: BN reduces internal covariate shift; Dropout prevents co-adaptation.\n",
        "* Experiment with **hidden layer sizes** and **learning rates**.\n",
        "* Try **adding a single CNN layer** before flattening → you’ll see a jump in accuracy to \\~98%.\n",
        "* Compare **training speed & accuracy** for fully connected vs CNN models.\n",
        "\n",
        "---\n"
      ],
      "metadata": {
        "id": "qkic8aIfE2L5"
      }
    },
    {
      "cell_type": "code",
      "source": [
        "class SmallNetImproved(nn.Module):\n",
        "    def __init__(self):\n",
        "        super().__init__()\n",
        "        self.fc1 = nn.Linear(784, 256)\n",
        "        self.bn1 = nn.BatchNorm1d(256)\n",
        "        self.fc2 = nn.Linear(256, 128)\n",
        "        self.bn2 = nn.BatchNorm1d(128)\n",
        "        self.fc3 = nn.Linear(128, 10)\n",
        "        self.dropout = nn.Dropout(0.2)\n",
        "\n",
        "    def forward(self, x):\n",
        "        x = x.view(-1, 28*28)\n",
        "        x = self.dropout(F.relu(self.bn1(self.fc1(x))))\n",
        "        x = self.dropout(F.relu(self.bn2(self.fc2(x))))\n",
        "        return self.fc3(x)"
      ],
      "metadata": {
        "id": "dP9wfSkhE6sK"
      },
      "execution_count": null,
      "outputs": []
    },
    {
      "cell_type": "code",
      "source": [
        "device = torch.device(\"cuda\" if torch.cuda.is_available() else \"cpu\")\n",
        "model = SmallNetImproved().to(device)\n",
        "\n",
        "criterion = nn.CrossEntropyLoss()\n",
        "optimizer = optim.SGD(model.parameters(), lr=0.01)\n",
        "\n",
        "# Training\n",
        "for epoch in range(10):\n",
        "  model.train()\n",
        "  for batch_idx, (data, target) in enumerate(train_loader):\n",
        "    data, target = data.to(device), target.to(device)\n",
        "    optimizer.zero_grad()\n",
        "    output = model(data)\n",
        "    loss = criterion(output, target)\n",
        "    loss.backward()\n",
        "    optimizer.step()\n",
        "\n",
        "    if batch_idx % 100 == 0:\n",
        "      print(f\"Epoch {epoch}, Batch {batch_idx}: loss={loss.item():.4f}\")"
      ],
      "metadata": {
        "colab": {
          "base_uri": "https://localhost:8080/"
        },
        "id": "_QYkwm8-E_Lz",
        "outputId": "c0b40317-188a-439e-c8ca-e6058b66013a"
      },
      "execution_count": null,
      "outputs": [
        {
          "output_type": "stream",
          "name": "stdout",
          "text": [
            "Epoch 0, Batch 0: loss=2.3373\n",
            "Epoch 0, Batch 100: loss=0.9147\n",
            "Epoch 0, Batch 200: loss=0.6800\n",
            "Epoch 0, Batch 300: loss=0.8223\n",
            "Epoch 0, Batch 400: loss=0.5327\n",
            "Epoch 0, Batch 500: loss=0.4578\n",
            "Epoch 0, Batch 600: loss=0.3091\n",
            "Epoch 0, Batch 700: loss=0.2770\n",
            "Epoch 0, Batch 800: loss=0.3396\n",
            "Epoch 0, Batch 900: loss=0.3555\n",
            "Epoch 1, Batch 0: loss=0.3649\n",
            "Epoch 1, Batch 100: loss=0.2530\n",
            "Epoch 1, Batch 200: loss=0.2194\n",
            "Epoch 1, Batch 300: loss=0.4112\n",
            "Epoch 1, Batch 400: loss=0.3654\n",
            "Epoch 1, Batch 500: loss=0.2481\n",
            "Epoch 1, Batch 600: loss=0.1968\n",
            "Epoch 1, Batch 700: loss=0.1493\n",
            "Epoch 1, Batch 800: loss=0.2312\n",
            "Epoch 1, Batch 900: loss=0.1974\n",
            "Epoch 2, Batch 0: loss=0.2093\n",
            "Epoch 2, Batch 100: loss=0.3582\n",
            "Epoch 2, Batch 200: loss=0.1851\n",
            "Epoch 2, Batch 300: loss=0.3238\n",
            "Epoch 2, Batch 400: loss=0.2996\n",
            "Epoch 2, Batch 500: loss=0.0979\n",
            "Epoch 2, Batch 600: loss=0.1373\n",
            "Epoch 2, Batch 700: loss=0.1972\n",
            "Epoch 2, Batch 800: loss=0.2169\n",
            "Epoch 2, Batch 900: loss=0.1305\n",
            "Epoch 3, Batch 0: loss=0.1367\n",
            "Epoch 3, Batch 100: loss=0.1162\n",
            "Epoch 3, Batch 200: loss=0.0888\n",
            "Epoch 3, Batch 300: loss=0.1249\n",
            "Epoch 3, Batch 400: loss=0.1695\n",
            "Epoch 3, Batch 500: loss=0.1365\n",
            "Epoch 3, Batch 600: loss=0.1926\n",
            "Epoch 3, Batch 700: loss=0.1163\n",
            "Epoch 3, Batch 800: loss=0.2893\n",
            "Epoch 3, Batch 900: loss=0.3700\n",
            "Epoch 4, Batch 0: loss=0.2057\n",
            "Epoch 4, Batch 100: loss=0.1777\n",
            "Epoch 4, Batch 200: loss=0.2517\n",
            "Epoch 4, Batch 300: loss=0.2419\n",
            "Epoch 4, Batch 400: loss=0.0779\n",
            "Epoch 4, Batch 500: loss=0.1474\n",
            "Epoch 4, Batch 600: loss=0.1019\n",
            "Epoch 4, Batch 700: loss=0.0580\n",
            "Epoch 4, Batch 800: loss=0.0632\n",
            "Epoch 4, Batch 900: loss=0.2021\n",
            "Epoch 5, Batch 0: loss=0.0744\n",
            "Epoch 5, Batch 100: loss=0.1034\n",
            "Epoch 5, Batch 200: loss=0.1621\n",
            "Epoch 5, Batch 300: loss=0.1394\n",
            "Epoch 5, Batch 400: loss=0.1211\n",
            "Epoch 5, Batch 500: loss=0.0855\n",
            "Epoch 5, Batch 600: loss=0.2236\n",
            "Epoch 5, Batch 700: loss=0.2613\n",
            "Epoch 5, Batch 800: loss=0.0871\n",
            "Epoch 5, Batch 900: loss=0.0663\n",
            "Epoch 6, Batch 0: loss=0.1966\n",
            "Epoch 6, Batch 100: loss=0.0557\n",
            "Epoch 6, Batch 200: loss=0.2406\n",
            "Epoch 6, Batch 300: loss=0.0744\n",
            "Epoch 6, Batch 400: loss=0.1554\n",
            "Epoch 6, Batch 500: loss=0.0545\n",
            "Epoch 6, Batch 600: loss=0.0689\n",
            "Epoch 6, Batch 700: loss=0.0640\n",
            "Epoch 6, Batch 800: loss=0.0650\n",
            "Epoch 6, Batch 900: loss=0.2578\n",
            "Epoch 7, Batch 0: loss=0.0830\n",
            "Epoch 7, Batch 100: loss=0.1264\n",
            "Epoch 7, Batch 200: loss=0.1268\n",
            "Epoch 7, Batch 300: loss=0.1489\n",
            "Epoch 7, Batch 400: loss=0.1456\n",
            "Epoch 7, Batch 500: loss=0.0811\n",
            "Epoch 7, Batch 600: loss=0.1381\n",
            "Epoch 7, Batch 700: loss=0.1407\n",
            "Epoch 7, Batch 800: loss=0.0913\n",
            "Epoch 7, Batch 900: loss=0.1100\n",
            "Epoch 8, Batch 0: loss=0.0438\n",
            "Epoch 8, Batch 100: loss=0.0592\n",
            "Epoch 8, Batch 200: loss=0.1655\n",
            "Epoch 8, Batch 300: loss=0.0596\n",
            "Epoch 8, Batch 400: loss=0.2205\n",
            "Epoch 8, Batch 500: loss=0.2210\n",
            "Epoch 8, Batch 600: loss=0.0980\n",
            "Epoch 8, Batch 700: loss=0.1260\n",
            "Epoch 8, Batch 800: loss=0.0445\n",
            "Epoch 8, Batch 900: loss=0.0650\n",
            "Epoch 9, Batch 0: loss=0.2125\n",
            "Epoch 9, Batch 100: loss=0.1553\n",
            "Epoch 9, Batch 200: loss=0.0915\n",
            "Epoch 9, Batch 300: loss=0.3138\n",
            "Epoch 9, Batch 400: loss=0.1045\n",
            "Epoch 9, Batch 500: loss=0.1003\n",
            "Epoch 9, Batch 600: loss=0.0912\n",
            "Epoch 9, Batch 700: loss=0.2639\n",
            "Epoch 9, Batch 800: loss=0.0919\n",
            "Epoch 9, Batch 900: loss=0.1449\n"
          ]
        }
      ]
    },
    {
      "cell_type": "code",
      "source": [
        "def test(model, test_loader):\n",
        "    model.eval()\n",
        "    correct = 0\n",
        "    total = 0\n",
        "    with torch.no_grad():\n",
        "      for data, target in test_loader:\n",
        "        data, target = data.to(device), target.to(device)\n",
        "        logits = model(data)\n",
        "        preds = torch.argmax(logits, dim=1)\n",
        "        total += target.size(0)\n",
        "        correct += (preds == target).sum().item()\n",
        "    print(f\"Accuracy: {100 * correct / total:.2f}%\")\n",
        "test(model, test_loader)"
      ],
      "metadata": {
        "colab": {
          "base_uri": "https://localhost:8080/"
        },
        "id": "uYadWuVQFDK2",
        "outputId": "62691c7c-8aaf-4064-e0fb-f729cdd420be"
      },
      "execution_count": null,
      "outputs": [
        {
          "output_type": "stream",
          "name": "stdout",
          "text": [
            "Accuracy: 97.80%\n"
          ]
        }
      ]
    },
    {
      "cell_type": "code",
      "source": [
        "sum(p.numel() for p in model.parameters())"
      ],
      "metadata": {
        "colab": {
          "base_uri": "https://localhost:8080/"
        },
        "id": "z6R21hv1FPLo",
        "outputId": "a8c6abb1-02f2-4979-95d8-7a5da4699fc4"
      },
      "execution_count": null,
      "outputs": [
        {
          "output_type": "execute_result",
          "data": {
            "text/plain": [
              "235914"
            ]
          },
          "metadata": {},
          "execution_count": 24
        }
      ]
    },
    {
      "cell_type": "markdown",
      "source": [
        "### Explaination on where Dropout fits in this pipeline (before or after ReLU)\n",
        "\n",
        "Perfect 👌 Let’s go step by step again.\n",
        "\n",
        "---\n",
        "\n",
        "# 🟢 Simple Terms (Intuition)\n",
        "\n",
        "* Think of neurons as students in a classroom.\n",
        "* **ReLU**: wakes up students who are “positive” and silences the “negative” ones.\n",
        "* **Dropout**: randomly tells some awake students to **stay quiet** in this round, so others get a chance to answer.\n",
        "\n",
        "If you apply Dropout **before ReLU** → you might silence students who were going to be quiet anyway (negative values). Waste of effort.\n",
        "\n",
        "If you apply Dropout **after ReLU** → you silence only the **active neurons**, which forces the model to not over-rely on them.\n",
        "\n",
        "👉 Correct order:\n",
        "**Linear → BatchNorm → ReLU → Dropout**\n",
        "\n",
        "---\n",
        "\n",
        "# 🟢 Technical Terms (ML Explanation)\n",
        "\n",
        "* **Dropout** randomly sets a fraction of activations to 0 with probability `p`.\n",
        "* **ReLU** already zeros out negative values.\n",
        "\n",
        "If Dropout is before ReLU:\n",
        "\n",
        "* Some values may be dropped but then become zero anyway after ReLU.\n",
        "* Effectiveness is reduced because ReLU changes the distribution.\n",
        "\n",
        "If Dropout is after ReLU:\n",
        "\n",
        "* It operates only on the **non-zero activations**, which are the useful signals.\n",
        "* This better prevents **co-adaptation of neurons** and helps **regularization**.\n",
        "\n",
        "👉 Standard best practice:\n",
        "\n",
        "$$\n",
        "\\text{Linear} \\;\\;\\to\\;\\; \\text{BatchNorm} \\;\\;\\to\\;\\; \\text{ReLU} \\;\\;\\to\\;\\; \\text{Dropout}\n",
        "$$\n",
        "\n",
        "---\n",
        "\n",
        "⚡ So the full recipe is:\n",
        "\n",
        "1. Linear (dense layer) → makes features\n",
        "2. BatchNorm → balances them\n",
        "3. ReLU → adds non-linearity\n",
        "4. Dropout → improves generalization\n",
        "\n",
        "---\n"
      ],
      "metadata": {
        "id": "sJmDZbGPRbln"
      }
    },
    {
      "cell_type": "markdown",
      "source": [
        "Great question 👌 Let’s break it down clearly.\n",
        "\n",
        "---\n",
        "\n",
        "# 🟢 Simple Intuition\n",
        "\n",
        "* **1D Convolution**: looks at data along **one direction** (like a line).\n",
        "\n",
        "  * Example: sound waves, time-series (stock prices), text sequences.\n",
        "  * It slides a small window over the sequence and learns local patterns.\n",
        "\n",
        "* **2D Convolution**: looks at data in **two directions** (like a grid).\n",
        "\n",
        "  * Example: images (height × width).\n",
        "  * It slides a small window over the image (like a 3×3 patch) and learns spatial patterns (edges, corners, textures).\n",
        "\n",
        "👉 Why 2D conv is best for images:\n",
        "\n",
        "* Images have **spatial structure** (pixels are related in 2D, not just left-to-right).\n",
        "* A 2D kernel can detect edges, corners, curves, and combine them into higher-level shapes.\n",
        "* If you flatten the image and use 1D conv/fully connected, you lose this structure.\n",
        "\n",
        "---\n",
        "\n",
        "# 🟢 Technical Terms\n",
        "\n",
        "### 1D Convolution\n",
        "\n",
        "* Kernel moves along **one dimension**.\n",
        "* Input shape: `[batch_size, channels, length]`.\n",
        "* Output shape: `[batch_size, out_channels, new_length]`.\n",
        "* Use cases:\n",
        "\n",
        "  * Natural Language Processing (NLP)\n",
        "  * Audio/speech\n",
        "  * Sensor/time-series data\n",
        "\n",
        "### 2D Convolution\n",
        "\n",
        "* Kernel moves along **two dimensions (height, width)**.\n",
        "* Input shape: `[batch_size, channels, height, width]`.\n",
        "* Output shape: `[batch_size, out_channels, new_height, new_width]`.\n",
        "* Use cases:\n",
        "\n",
        "  * Computer Vision (images, videos as 2D frames)\n",
        "  * Object detection, segmentation\n",
        "\n",
        "---\n",
        "\n",
        "### Why 2D Conv works better for images than 1D\n",
        "\n",
        "1. **Preserves spatial locality**\n",
        "\n",
        "   * Nearby pixels are strongly related (e.g., edge, line).\n",
        "   * 2D conv respects this by scanning **patches**.\n",
        "\n",
        "2. **Translation invariance**\n",
        "\n",
        "   * A learned filter for a vertical edge works anywhere in the image.\n",
        "\n",
        "3. **Parameter efficiency**\n",
        "\n",
        "   * Instead of fully connecting every pixel, 2D conv uses small filters (e.g., 3×3), drastically reducing parameters.\n",
        "\n",
        "4. **Hierarchical feature learning**\n",
        "\n",
        "   * Early layers: detect edges/textures.\n",
        "   * Middle layers: detect shapes/patterns.\n",
        "   * Deep layers: detect objects.\n",
        "\n",
        "---\n",
        "\n",
        "⚡ **In short**:\n",
        "\n",
        "* Use **1D conv** → when data is a sequence.\n",
        "* Use **2D conv** → when data has spatial structure (images).\n",
        "\n",
        "---\n",
        "\n"
      ],
      "metadata": {
        "id": "rR7-C-_TTG9_"
      }
    },
    {
      "cell_type": "code",
      "source": [
        "import torch\n",
        "import torch.nn as nn\n",
        "import torch.nn.functional as F\n",
        "import torch.optim as optim\n",
        "from torchvision import datasets, transforms\n",
        "from torch.utils.data import DataLoader\n",
        "\n",
        "class ConvNet(nn.Module):\n",
        "    def __init__(self):\n",
        "        super().__init__()\n",
        "        # Convolutional layers\n",
        "        self.conv1 = nn.Conv2d(in_channels=1, out_channels=32, kernel_size=3, padding=1)  # 28x28 → 28x28\n",
        "        self.bn1 = nn.BatchNorm2d(32)\n",
        "\n",
        "        self.conv2 = nn.Conv2d(32, 64, kernel_size=3, padding=1)  # 28x28 → 28x28\n",
        "        self.bn2 = nn.BatchNorm2d(64)\n",
        "\n",
        "        self.pool = nn.MaxPool2d(2, 2)  # halves size → 28x28 → 14x14\n",
        "\n",
        "        # Fully connected layers\n",
        "        # The size of the flattened layer will be determined dynamically\n",
        "        self.fc1 = nn.Linear(64 * 7 * 7, 128) # This will be updated dynamically\n",
        "        self.dropout = nn.Dropout(0.5)\n",
        "        self.fc2 = nn.Linear(128, 10)\n",
        "\n",
        "    def forward(self, x):\n",
        "        # Convolution block 1\n",
        "        x = self.pool(F.relu(self.bn1(self.conv1(x))))\n",
        "        # Convolution block 2\n",
        "        x = self.pool(F.relu(self.bn2(self.conv2(x))))\n",
        "\n",
        "        # Calculate the flattened size dynamically\n",
        "        flattened_size = x.size(1) * x.size(2) * x.size(3)\n",
        "\n",
        "        # Flatten\n",
        "        x = x.view(-1, flattened_size)\n",
        "\n",
        "        # Fully connected\n",
        "        # Dynamically update the input size of the first fully connected layer\n",
        "        if self.fc1.in_features != flattened_size:\n",
        "            self.fc1 = nn.Linear(flattened_size, 128).to(x.device)\n",
        "\n",
        "        x = F.relu(self.fc1(x))\n",
        "        x = self.dropout(x)\n",
        "        x = self.fc2(x)\n",
        "        return x"
      ],
      "metadata": {
        "id": "_Yuj-3atTHsi"
      },
      "execution_count": 10,
      "outputs": []
    },
    {
      "cell_type": "code",
      "source": [
        "def train_and_test(model, train_loader, test_loader, epochs=10, lr=0.01):\n",
        "    device = torch.device(\"cuda\" if torch.cuda.is_available() else \"cpu\")\n",
        "    model = model.to(device)\n",
        "\n",
        "    criterion = nn.CrossEntropyLoss()\n",
        "    optimizer = optim.SGD(model.parameters(), lr=lr, momentum=0.9)\n",
        "\n",
        "    for epoch in range(1, epochs + 1):\n",
        "        # Training\n",
        "        model.train()\n",
        "        running_loss = 0.0\n",
        "        for batch_idx, (data, target) in enumerate(train_loader):\n",
        "            data, target = data.to(device), target.to(device)\n",
        "\n",
        "            optimizer.zero_grad()\n",
        "            outputs = model(data)\n",
        "            loss = criterion(outputs, target)\n",
        "            loss.backward()\n",
        "            optimizer.step()\n",
        "\n",
        "            running_loss += loss.item()\n",
        "\n",
        "        avg_loss = running_loss / len(train_loader)\n",
        "\n",
        "        # Testing\n",
        "        model.eval()\n",
        "        correct, total = 0, 0\n",
        "        with torch.no_grad():\n",
        "            for data, target in test_loader:\n",
        "                data, target = data.to(device), target.to(device)\n",
        "                outputs = model(data)\n",
        "                preds = outputs.argmax(dim=1)\n",
        "                total += target.size(0)\n",
        "                correct += (preds == target).sum().item()\n",
        "\n",
        "        acc = 100 * correct / total\n",
        "        print(f\"Epoch {epoch}: Loss = {avg_loss:.4f}, Accuracy = {acc:.2f}%\")"
      ],
      "metadata": {
        "id": "b0Qx-IAfTt-5"
      },
      "execution_count": 11,
      "outputs": []
    },
    {
      "cell_type": "code",
      "source": [
        "def count_parameters(model):\n",
        "    return sum(p.numel() for p in model.parameters() if p.requires_grad)"
      ],
      "metadata": {
        "id": "J0r6cY6wW95K"
      },
      "execution_count": 15,
      "outputs": []
    },
    {
      "cell_type": "code",
      "source": [
        "model = ConvNet()\n",
        "\n",
        "transform = transforms.Compose([\n",
        "    transforms.ToTensor(),\n",
        "    transforms.Normalize((0.1307,), (0.3081,))\n",
        "])\n",
        "\n",
        "train_loader = DataLoader(\n",
        "    datasets.MNIST('./data', train=True, download=True, transform=transform),\n",
        "    batch_size=64, shuffle=True\n",
        ")\n",
        "\n",
        "\n",
        "test_loader = DataLoader(\n",
        "    datasets.MNIST('./data', train=False, download=True, transform=transform),\n",
        "    batch_size=1000, shuffle=False\n",
        ")\n",
        "\n",
        "train_and_test(model, train_loader, test_loader, epochs=10, lr=0.01)"
      ],
      "metadata": {
        "colab": {
          "base_uri": "https://localhost:8080/"
        },
        "id": "LwapgIcDT3Ya",
        "outputId": "2f946bc2-b32f-4821-b127-39243ab12119"
      },
      "execution_count": 12,
      "outputs": [
        {
          "output_type": "stream",
          "name": "stdout",
          "text": [
            "Epoch 1: Loss = 0.2173, Accuracy = 98.31%\n",
            "Epoch 2: Loss = 0.0985, Accuracy = 98.66%\n",
            "Epoch 3: Loss = 0.0743, Accuracy = 98.97%\n",
            "Epoch 4: Loss = 0.0620, Accuracy = 98.90%\n",
            "Epoch 5: Loss = 0.0543, Accuracy = 99.06%\n",
            "Epoch 6: Loss = 0.0462, Accuracy = 99.07%\n",
            "Epoch 7: Loss = 0.0403, Accuracy = 99.21%\n",
            "Epoch 8: Loss = 0.0348, Accuracy = 99.17%\n",
            "Epoch 9: Loss = 0.0341, Accuracy = 99.23%\n",
            "Epoch 10: Loss = 0.0292, Accuracy = 99.06%\n"
          ]
        }
      ]
    },
    {
      "cell_type": "code",
      "source": [
        "class ConvNet(nn.Module):\n",
        "    def __init__(self):\n",
        "        super().__init__()\n",
        "        # Convolutional layers\n",
        "        self.conv1 = nn.Conv2d(in_channels=1, out_channels=16, kernel_size=3, padding=1)  # 28x28 → 28x28\n",
        "        self.bn1 = nn.BatchNorm2d(16)\n",
        "\n",
        "        self.conv2 = nn.Conv2d(16, 32, kernel_size=3, padding=1)  # 28x28 → 28x28\n",
        "        self.bn2 = nn.BatchNorm2d(32)\n",
        "\n",
        "        self.pool = nn.MaxPool2d(2, 2)  # halves size → 28x28 → 14x14\n",
        "\n",
        "        # Fully connected layers\n",
        "        # The size of the flattened layer will be determined dynamically\n",
        "        self.fc1 = nn.Linear(32 * 7 * 7, 64) # This will be updated dynamically\n",
        "        self.dropout = nn.Dropout(0.5)\n",
        "        self.fc2 = nn.Linear(64, 10)\n",
        "\n",
        "    def forward(self, x):\n",
        "        # Convolution block 1\n",
        "        x = self.pool(F.relu(self.bn1(self.conv1(x))))\n",
        "        # Convolution block 2\n",
        "        x = self.pool(F.relu(self.bn2(self.conv2(x))))\n",
        "\n",
        "        # Calculate the flattened size dynamically\n",
        "        flattened_size = x.size(1) * x.size(2) * x.size(3)\n",
        "\n",
        "        # Flatten\n",
        "        x = x.view(-1, flattened_size)\n",
        "\n",
        "        # Fully connected\n",
        "        # Dynamically update the input size of the first fully connected layer\n",
        "        if self.fc1.in_features != flattened_size:\n",
        "            self.fc1 = nn.Linear(flattened_size, 128).to(x.device)\n",
        "\n",
        "        x = F.relu(self.fc1(x))\n",
        "        x = self.dropout(x)\n",
        "        x = self.fc2(x)\n",
        "        return x"
      ],
      "metadata": {
        "id": "XTYuOnRlUFep"
      },
      "execution_count": 18,
      "outputs": []
    },
    {
      "cell_type": "code",
      "source": [
        "model = ConvNet()\n",
        "\n",
        "transform = transforms.Compose([\n",
        "    transforms.ToTensor(),\n",
        "    transforms.Normalize((0.1307,), (0.3081,))\n",
        "])\n",
        "\n",
        "train_loader = DataLoader(\n",
        "    datasets.MNIST('./data', train=True, download=True, transform=transform),\n",
        "    batch_size=64, shuffle=True\n",
        ")\n",
        "\n",
        "\n",
        "test_loader = DataLoader(\n",
        "    datasets.MNIST('./data', train=False, download=True, transform=transform),\n",
        "    batch_size=1000, shuffle=False\n",
        ")\n",
        "\n",
        "train_and_test(model, train_loader, test_loader, epochs=10, lr=0.01)"
      ],
      "metadata": {
        "colab": {
          "base_uri": "https://localhost:8080/"
        },
        "id": "TWdPmYbbWtaq",
        "outputId": "96a91931-d91a-44e0-af0c-424e017534ae"
      },
      "execution_count": 19,
      "outputs": [
        {
          "output_type": "stream",
          "name": "stdout",
          "text": [
            "Epoch 1: Loss = 0.2998, Accuracy = 98.09%\n",
            "Epoch 2: Loss = 0.1415, Accuracy = 98.18%\n",
            "Epoch 3: Loss = 0.1112, Accuracy = 98.63%\n",
            "Epoch 4: Loss = 0.0924, Accuracy = 98.83%\n",
            "Epoch 5: Loss = 0.0804, Accuracy = 98.66%\n",
            "Epoch 6: Loss = 0.0732, Accuracy = 98.92%\n",
            "Epoch 7: Loss = 0.0667, Accuracy = 99.01%\n",
            "Epoch 8: Loss = 0.0580, Accuracy = 98.91%\n",
            "Epoch 9: Loss = 0.0578, Accuracy = 99.29%\n",
            "Epoch 10: Loss = 0.0522, Accuracy = 99.18%\n"
          ]
        }
      ]
    },
    {
      "cell_type": "code",
      "source": [
        "count_parameters(model)"
      ],
      "metadata": {
        "colab": {
          "base_uri": "https://localhost:8080/"
        },
        "id": "wVvLlVdBWzvh",
        "outputId": "e9570a57-e608-4af2-dfdf-548c118d8337"
      },
      "execution_count": 20,
      "outputs": [
        {
          "output_type": "execute_result",
          "data": {
            "text/plain": [
              "105962"
            ]
          },
          "metadata": {},
          "execution_count": 20
        }
      ]
    },
    {
      "cell_type": "code",
      "source": [
        "class ConvNet(nn.Module):\n",
        "    def __init__(self):\n",
        "        super().__init__()\n",
        "        # Convolutional layers\n",
        "        self.conv1 = nn.Conv2d(in_channels=1, out_channels=16, kernel_size=3, padding=1)\n",
        "        self.bn1 = nn.BatchNorm2d(16)\n",
        "\n",
        "        self.conv2 = nn.Conv2d(16, 32, kernel_size=3, padding=1)\n",
        "        self.bn2 = nn.BatchNorm2d(32)\n",
        "\n",
        "        self.pool = nn.MaxPool2d(2, 2)\n",
        "        self.gap = nn.AdaptiveAvgPool2d(1)\n",
        "\n",
        "        self.fc2 = nn.Linear(32, 10)\n",
        "\n",
        "    def forward(self, x):\n",
        "        x = self.conv1(x)\n",
        "        x = self.bn1(x)\n",
        "        x = F.relu(x)\n",
        "        x = self.pool(x)\n",
        "\n",
        "        x = self.conv2(x)\n",
        "        x = self.bn2(x)\n",
        "        x = F.relu(x)\n",
        "        x = self.pool(x)\n",
        "\n",
        "        x = self.gap(x).view(x.size(0),32)\n",
        "        return self.fc2(x)"
      ],
      "metadata": {
        "id": "My-11zlkXF1r"
      },
      "execution_count": 29,
      "outputs": []
    },
    {
      "cell_type": "code",
      "source": [
        "model = ConvNet()\n",
        "count_parameters(model)"
      ],
      "metadata": {
        "colab": {
          "base_uri": "https://localhost:8080/"
        },
        "id": "tJMQE_mVZSUo",
        "outputId": "e72c6dc6-d04e-4b1b-8167-8e76a6d1da9d"
      },
      "execution_count": 30,
      "outputs": [
        {
          "output_type": "execute_result",
          "data": {
            "text/plain": [
              "19658"
            ]
          },
          "metadata": {},
          "execution_count": 30
        }
      ]
    },
    {
      "cell_type": "code",
      "source": [
        "transform = transforms.Compose([\n",
        "    transforms.ToTensor(),\n",
        "    transforms.Normalize((0.1307,), (0.3081,))\n",
        "])\n",
        "\n",
        "train_loader = DataLoader(\n",
        "    datasets.MNIST('./data', train=True, download=True, transform=transform),\n",
        "    batch_size=64, shuffle=True\n",
        ")\n",
        "\n",
        "\n",
        "test_loader = DataLoader(\n",
        "    datasets.MNIST('./data', train=False, download=True, transform=transform),\n",
        "    batch_size=1000, shuffle=False\n",
        ")\n",
        "\n",
        "train_and_test(model, train_loader, test_loader, epochs=20, lr=0.001)"
      ],
      "metadata": {
        "colab": {
          "base_uri": "https://localhost:8080/"
        },
        "id": "7umNJPNgZTnh",
        "outputId": "0215286c-56cc-4991-8ca4-e738c10d95d3"
      },
      "execution_count": 32,
      "outputs": [
        {
          "output_type": "stream",
          "name": "stdout",
          "text": [
            "Epoch 1: Loss = 0.0811, Accuracy = 97.18%\n",
            "Epoch 2: Loss = 0.0766, Accuracy = 97.46%\n",
            "Epoch 3: Loss = 0.0730, Accuracy = 96.66%\n",
            "Epoch 4: Loss = 0.0687, Accuracy = 97.48%\n",
            "Epoch 5: Loss = 0.0675, Accuracy = 97.32%\n",
            "Epoch 6: Loss = 0.0644, Accuracy = 97.53%\n",
            "Epoch 7: Loss = 0.0621, Accuracy = 97.33%\n",
            "Epoch 8: Loss = 0.0593, Accuracy = 97.24%\n",
            "Epoch 9: Loss = 0.0566, Accuracy = 97.91%\n",
            "Epoch 10: Loss = 0.0547, Accuracy = 96.66%\n",
            "Epoch 11: Loss = 0.0504, Accuracy = 97.65%\n",
            "Epoch 12: Loss = 0.0504, Accuracy = 97.07%\n",
            "Epoch 13: Loss = 0.0490, Accuracy = 97.42%\n",
            "Epoch 14: Loss = 0.0459, Accuracy = 97.38%\n",
            "Epoch 15: Loss = 0.0457, Accuracy = 97.73%\n",
            "Epoch 16: Loss = 0.0434, Accuracy = 97.53%\n",
            "Epoch 17: Loss = 0.0420, Accuracy = 97.82%\n",
            "Epoch 18: Loss = 0.0407, Accuracy = 98.04%\n",
            "Epoch 19: Loss = 0.0392, Accuracy = 97.81%\n",
            "Epoch 20: Loss = 0.0388, Accuracy = 97.94%\n"
          ]
        }
      ]
    },
    {
      "cell_type": "code",
      "source": [
        "class ConvNet(nn.Module):\n",
        "    def __init__(self):\n",
        "        super().__init__()\n",
        "        # Convolutional layers\n",
        "        self.conv1 = nn.Conv2d(1, 16, kernel_size=3, padding=1)\n",
        "        self.bn1 = nn.BatchNorm2d(16)\n",
        "        self.conv2 = nn.Conv2d(16, 32, kernel_size=3, padding=1)\n",
        "        self.bn2 = nn.BatchNorm2d(32)\n",
        "        self.pool = nn.MaxPool2d(2, 2)\n",
        "        self.gap = nn.AdaptiveAvgPool2d((1,1))\n",
        "        self.fc2 = nn.Linear(32, 10)\n",
        "\n",
        "    def forward(self, x):\n",
        "        x = self.conv1(x)\n",
        "        x = self.bn1(x)\n",
        "        x = F.relu(x)\n",
        "        x = self.pool(x)\n",
        "\n",
        "        x = self.conv2(x)\n",
        "        x = self.bn2(x)\n",
        "        x = F.relu(x)\n",
        "        x = self.pool(x)\n",
        "\n",
        "        x = self.gap(x).view(x.size(0),-1)\n",
        "        return self.fc2(x)"
      ],
      "metadata": {
        "id": "HG2XlK0vZcnn"
      },
      "execution_count": 39,
      "outputs": []
    },
    {
      "cell_type": "code",
      "source": [
        "model = ConvNet()\n",
        "count_parameters(model)"
      ],
      "metadata": {
        "colab": {
          "base_uri": "https://localhost:8080/"
        },
        "id": "rtnnEjCrjLp2",
        "outputId": "06fbcd68-e535-494c-d336-597a30fab691"
      },
      "execution_count": 40,
      "outputs": [
        {
          "output_type": "execute_result",
          "data": {
            "text/plain": [
              "5226"
            ]
          },
          "metadata": {},
          "execution_count": 40
        }
      ]
    },
    {
      "cell_type": "code",
      "source": [
        "transform = transforms.Compose([\n",
        "    transforms.ToTensor(),\n",
        "    transforms.Normalize((0.1307,), (0.3081,))\n",
        "])\n",
        "\n",
        "train_loader = DataLoader(\n",
        "    datasets.MNIST('./data', train=True, download=True, transform=transform),\n",
        "    batch_size=64, shuffle=True\n",
        ")\n",
        "\n",
        "\n",
        "test_loader = DataLoader(\n",
        "    datasets.MNIST('./data', train=False, download=True, transform=transform),\n",
        "    batch_size=1000, shuffle=False\n",
        ")\n",
        "\n",
        "train_and_test(model, train_loader, test_loader, epochs=20, lr=0.1)"
      ],
      "metadata": {
        "colab": {
          "base_uri": "https://localhost:8080/"
        },
        "id": "WDfwWbVZjME2",
        "outputId": "ee39ddb4-6fac-4206-cd5b-51e421d31e48"
      },
      "execution_count": 42,
      "outputs": [
        {
          "output_type": "stream",
          "name": "stdout",
          "text": [
            "Epoch 1: Loss = 0.3580, Accuracy = 84.95%\n",
            "Epoch 2: Loss = 0.1758, Accuracy = 95.22%\n",
            "Epoch 3: Loss = 0.1376, Accuracy = 94.34%\n",
            "Epoch 4: Loss = 0.1229, Accuracy = 96.36%\n",
            "Epoch 5: Loss = 0.1065, Accuracy = 97.15%\n",
            "Epoch 6: Loss = 0.0986, Accuracy = 96.41%\n",
            "Epoch 7: Loss = 0.0921, Accuracy = 97.24%\n",
            "Epoch 8: Loss = 0.0867, Accuracy = 97.13%\n",
            "Epoch 9: Loss = 0.0817, Accuracy = 96.14%\n",
            "Epoch 10: Loss = 0.0799, Accuracy = 96.84%\n",
            "Epoch 11: Loss = 0.0741, Accuracy = 96.84%\n",
            "Epoch 12: Loss = 0.0730, Accuracy = 97.42%\n",
            "Epoch 13: Loss = 0.0686, Accuracy = 97.36%\n",
            "Epoch 14: Loss = 0.0668, Accuracy = 97.36%\n",
            "Epoch 15: Loss = 0.0619, Accuracy = 97.72%\n",
            "Epoch 16: Loss = 0.0631, Accuracy = 97.49%\n",
            "Epoch 17: Loss = 0.0606, Accuracy = 97.65%\n",
            "Epoch 18: Loss = 0.0616, Accuracy = 97.44%\n",
            "Epoch 19: Loss = 0.0605, Accuracy = 97.33%\n",
            "Epoch 20: Loss = 0.0580, Accuracy = 97.33%\n"
          ]
        }
      ]
    },
    {
      "cell_type": "code",
      "source": [
        "class ConvNet(nn.Module):\n",
        "    def __init__(self):\n",
        "        super().__init__()\n",
        "        # Convolutional layers\n",
        "        self.conv1 = nn.Conv2d(1, 20, kernel_size=3, padding=1)\n",
        "        self.bn1 = nn.BatchNorm2d(20)\n",
        "        self.conv2 = nn.Conv2d(20, 40, kernel_size=3, padding=1)\n",
        "        self.bn2 = nn.BatchNorm2d(40)\n",
        "        self.pool = nn.MaxPool2d(2, 2)\n",
        "        self.gap = nn.AdaptiveAvgPool2d((1,1))\n",
        "        self.fc2 = nn.Linear(40, 10)\n",
        "\n",
        "    def forward(self, x):\n",
        "        x = self.conv1(x)\n",
        "        x = self.bn1(x)\n",
        "        x = F.relu(x)\n",
        "        x = self.pool(x)\n",
        "\n",
        "        x = self.conv2(x)\n",
        "        x = self.bn2(x)\n",
        "        x = F.relu(x)\n",
        "        x = self.pool(x)\n",
        "\n",
        "        x = self.gap(x).view(x.size(0),-1)\n",
        "        return self.fc2(x)"
      ],
      "metadata": {
        "id": "tlPA164-ngjA"
      },
      "execution_count": 43,
      "outputs": []
    },
    {
      "cell_type": "code",
      "source": [
        "model = ConvNet()\n",
        "count_parameters(model)"
      ],
      "metadata": {
        "colab": {
          "base_uri": "https://localhost:8080/"
        },
        "id": "cTsnhvh7n3HP",
        "outputId": "1f584fb3-67a6-404a-8f93-5dfa0ce8dfc2"
      },
      "execution_count": 44,
      "outputs": [
        {
          "output_type": "execute_result",
          "data": {
            "text/plain": [
              "7970"
            ]
          },
          "metadata": {},
          "execution_count": 44
        }
      ]
    },
    {
      "cell_type": "code",
      "source": [
        "transform = transforms.Compose([\n",
        "    transforms.ToTensor(),\n",
        "    transforms.Normalize((0.1307,), (0.3081,))\n",
        "])\n",
        "\n",
        "train_loader = DataLoader(\n",
        "    datasets.MNIST('./data', train=True, download=True, transform=transform),\n",
        "    batch_size=64, shuffle=True\n",
        ")\n",
        "\n",
        "\n",
        "test_loader = DataLoader(\n",
        "    datasets.MNIST('./data', train=False, download=True, transform=transform),\n",
        "    batch_size=1000, shuffle=False\n",
        ")\n",
        "\n",
        "train_and_test(model, train_loader, test_loader, epochs=20, lr=0.1)"
      ],
      "metadata": {
        "colab": {
          "base_uri": "https://localhost:8080/"
        },
        "id": "ebtCAQhnn4_y",
        "outputId": "80cf5d3d-1a02-4b3a-f2b4-22a5938837dc"
      },
      "execution_count": 45,
      "outputs": [
        {
          "output_type": "stream",
          "name": "stdout",
          "text": [
            "Epoch 1: Loss = 0.5109, Accuracy = 94.12%\n",
            "Epoch 2: Loss = 0.1714, Accuracy = 96.41%\n",
            "Epoch 3: Loss = 0.1315, Accuracy = 95.88%\n",
            "Epoch 4: Loss = 0.1172, Accuracy = 97.19%\n",
            "Epoch 5: Loss = 0.1004, Accuracy = 95.52%\n",
            "Epoch 6: Loss = 0.0941, Accuracy = 97.37%\n",
            "Epoch 7: Loss = 0.0844, Accuracy = 96.57%\n",
            "Epoch 8: Loss = 0.0802, Accuracy = 97.41%\n",
            "Epoch 9: Loss = 0.0728, Accuracy = 97.40%\n",
            "Epoch 10: Loss = 0.0725, Accuracy = 96.38%\n",
            "Epoch 11: Loss = 0.0675, Accuracy = 96.95%\n",
            "Epoch 12: Loss = 0.0651, Accuracy = 97.76%\n",
            "Epoch 13: Loss = 0.0608, Accuracy = 97.65%\n",
            "Epoch 14: Loss = 0.0618, Accuracy = 97.51%\n",
            "Epoch 15: Loss = 0.0551, Accuracy = 97.99%\n",
            "Epoch 16: Loss = 0.0534, Accuracy = 97.77%\n",
            "Epoch 17: Loss = 0.0526, Accuracy = 97.74%\n",
            "Epoch 18: Loss = 0.0497, Accuracy = 97.64%\n",
            "Epoch 19: Loss = 0.0496, Accuracy = 97.35%\n",
            "Epoch 20: Loss = 0.0489, Accuracy = 97.59%\n"
          ]
        }
      ]
    },
    {
      "cell_type": "code",
      "source": [
        "def train_and_test(model, train_loader, test_loader, epochs=10, lr=0.01, max_lr=0.1):\n",
        "    device = torch.device(\"cuda\" if torch.cuda.is_available() else \"cpu\")\n",
        "    model = model.to(device)\n",
        "\n",
        "    criterion = nn.CrossEntropyLoss()\n",
        "    optimizer = optim.SGD(model.parameters(), lr=lr, momentum=0.9)\n",
        "    scheduler = torch.optim.lr_scheduler.OneCycleLR(\n",
        "        optimizer,\n",
        "        max_lr=max_lr,\n",
        "        steps_per_epoch=len(train_loader),\n",
        "        epochs=epochs  # keep it consistent\n",
        "    )\n",
        "\n",
        "    for epoch in range(1, epochs + 1):\n",
        "        # Training\n",
        "        model.train()\n",
        "        running_loss = 0.0\n",
        "        for batch_idx, (data, target) in enumerate(train_loader):\n",
        "            data, target = data.to(device), target.to(device)\n",
        "\n",
        "            optimizer.zero_grad()\n",
        "            outputs = model(data)\n",
        "            loss = criterion(outputs, target)\n",
        "            loss.backward()\n",
        "            optimizer.step()\n",
        "            scheduler.step()\n",
        "\n",
        "            running_loss += loss.item()\n",
        "\n",
        "        avg_loss = running_loss / len(train_loader)\n",
        "\n",
        "        # Testing\n",
        "        model.eval()\n",
        "        correct, total = 0, 0\n",
        "        with torch.no_grad():\n",
        "            for data, target in test_loader:\n",
        "                data, target = data.to(device), target.to(device)\n",
        "                outputs = model(data)\n",
        "                preds = outputs.argmax(dim=1)\n",
        "                total += target.size(0)\n",
        "                correct += (preds == target).sum().item()\n",
        "\n",
        "        acc = 100 * correct / total\n",
        "        current_lr = scheduler.get_last_lr()[0]\n",
        "        print(f\"Epoch {epoch}: LR={current_lr:.5f}, Loss={avg_loss:.4f}, Accuracy={acc:.2f}%\")\n"
      ],
      "metadata": {
        "id": "YSBwSW7Hn_DG"
      },
      "execution_count": 46,
      "outputs": []
    },
    {
      "cell_type": "code",
      "source": [
        "transform = transforms.Compose([\n",
        "    transforms.ToTensor(),\n",
        "    transforms.Normalize((0.1307,), (0.3081,))\n",
        "])\n",
        "\n",
        "train_loader = DataLoader(\n",
        "    datasets.MNIST('./data', train=True, download=True, transform=transform),\n",
        "    batch_size=64, shuffle=True\n",
        ")\n",
        "\n",
        "\n",
        "test_loader = DataLoader(\n",
        "    datasets.MNIST('./data', train=False, download=True, transform=transform),\n",
        "    batch_size=1000, shuffle=False\n",
        ")\n",
        "\n",
        "train_and_test(model, train_loader, test_loader, epochs=20, lr=0.1)"
      ],
      "metadata": {
        "colab": {
          "base_uri": "https://localhost:8080/"
        },
        "id": "dD8Km05xp0rJ",
        "outputId": "84480829-b877-4b54-9eed-8d5bd29f9c58"
      },
      "execution_count": 47,
      "outputs": [
        {
          "output_type": "stream",
          "name": "stdout",
          "text": [
            "Epoch 1: LR=0.01043, Loss=0.0304, Accuracy=98.34%\n",
            "Epoch 2: LR=0.02801, Loss=0.0296, Accuracy=98.20%\n",
            "Epoch 3: LR=0.05201, Loss=0.0322, Accuracy=97.97%\n",
            "Epoch 4: LR=0.07602, Loss=0.0337, Accuracy=98.12%\n",
            "Epoch 5: LR=0.09358, Loss=0.0350, Accuracy=97.77%\n",
            "Epoch 6: LR=0.10000, Loss=0.0340, Accuracy=97.98%\n",
            "Epoch 7: LR=0.09874, Loss=0.0319, Accuracy=97.63%\n",
            "Epoch 8: LR=0.09504, Loss=0.0330, Accuracy=97.88%\n",
            "Epoch 9: LR=0.08908, Loss=0.0331, Accuracy=97.52%\n",
            "Epoch 10: LR=0.08117, Loss=0.0310, Accuracy=98.06%\n",
            "Epoch 11: LR=0.07168, Loss=0.0290, Accuracy=97.96%\n",
            "Epoch 12: LR=0.06111, Loss=0.0282, Accuracy=98.12%\n",
            "Epoch 13: LR=0.04999, Loss=0.0266, Accuracy=98.22%\n",
            "Epoch 14: LR=0.03886, Loss=0.0239, Accuracy=98.08%\n",
            "Epoch 15: LR=0.02830, Loss=0.0216, Accuracy=98.04%\n",
            "Epoch 16: LR=0.01882, Loss=0.0209, Accuracy=98.08%\n",
            "Epoch 17: LR=0.01090, Loss=0.0185, Accuracy=98.20%\n",
            "Epoch 18: LR=0.00495, Loss=0.0170, Accuracy=98.27%\n",
            "Epoch 19: LR=0.00125, Loss=0.0154, Accuracy=98.24%\n",
            "Epoch 20: LR=0.00000, Loss=0.0146, Accuracy=98.23%\n"
          ]
        }
      ]
    },
    {
      "cell_type": "code",
      "source": [
        "import torch\n",
        "import torch.nn as nn\n",
        "import torch.nn.functional as F\n",
        "import torch.optim as optim\n",
        "from torchvision import datasets, transforms\n",
        "from torch.utils.data import DataLoader\n"
      ],
      "metadata": {
        "id": "lTaLLGlup1nQ"
      },
      "execution_count": 48,
      "outputs": []
    },
    {
      "cell_type": "code",
      "source": [
        "class ConvNet(nn.Module):\n",
        "    def __init__(self):\n",
        "        super().__init__()\n",
        "        # Convolutional layers\n",
        "        self.conv1 = nn.Conv2d(1, 16, kernel_size=3, padding=1)   # 1 -> 16\n",
        "        self.bn1 = nn.BatchNorm2d(16)\n",
        "\n",
        "        self.conv2 = nn.Conv2d(16, 32, kernel_size=3, padding=1)  # 16 -> 32\n",
        "        self.bn2 = nn.BatchNorm2d(32)\n",
        "\n",
        "        self.conv3 = nn.Conv2d(32, 40, kernel_size=3, padding=1)  # 32 -> 40\n",
        "        self.bn3 = nn.BatchNorm2d(40)\n",
        "\n",
        "        self.pool = nn.MaxPool2d(2, 2)\n",
        "        self.gap = nn.AdaptiveAvgPool2d((1,1))  # global average pooling\n",
        "\n",
        "        self.dropout = nn.Dropout(0.3)\n",
        "        self.fc = nn.Linear(40, 10)  # 40 features -> 10 classes\n",
        "\n",
        "    def forward(self, x):\n",
        "        # Block 1\n",
        "        x = F.relu(self.bn1(self.conv1(x)))\n",
        "        x = self.pool(x)\n",
        "\n",
        "        # Block 2\n",
        "        x = F.relu(self.bn2(self.conv2(x)))\n",
        "        x = self.pool(x)\n",
        "\n",
        "        # Block 3\n",
        "        x = F.relu(self.bn3(self.conv3(x)))\n",
        "\n",
        "        # Global average pooling + dropout\n",
        "        x = self.gap(x).view(x.size(0), -1)\n",
        "        x = self.dropout(x)\n",
        "\n",
        "        return self.fc(x)"
      ],
      "metadata": {
        "id": "iaKVbnca1gIb"
      },
      "execution_count": 49,
      "outputs": []
    },
    {
      "cell_type": "code",
      "source": [
        "def train_and_test(model, train_loader, test_loader, epochs=10, lr=0.01, max_lr=0.1):\n",
        "    device = torch.device(\"cuda\" if torch.cuda.is_available() else \"cpu\")\n",
        "    model = model.to(device)\n",
        "\n",
        "    criterion = nn.CrossEntropyLoss()\n",
        "    optimizer = optim.SGD(model.parameters(), lr=lr, momentum=0.9)\n",
        "    scheduler = torch.optim.lr_scheduler.OneCycleLR(\n",
        "        optimizer,\n",
        "        max_lr=max_lr,\n",
        "        steps_per_epoch=len(train_loader),\n",
        "        epochs=epochs  # keep it consistent\n",
        "    )\n",
        "\n",
        "    for epoch in range(1, epochs + 1):\n",
        "        # Training\n",
        "        model.train()\n",
        "        running_loss = 0.0\n",
        "        for batch_idx, (data, target) in enumerate(train_loader):\n",
        "            data, target = data.to(device), target.to(device)\n",
        "\n",
        "            optimizer.zero_grad()\n",
        "            outputs = model(data)\n",
        "            loss = criterion(outputs, target)\n",
        "            loss.backward()\n",
        "            optimizer.step()\n",
        "            scheduler.step()\n",
        "\n",
        "            running_loss += loss.item()\n",
        "\n",
        "        avg_loss = running_loss / len(train_loader)\n",
        "\n",
        "        # Testing\n",
        "        model.eval()\n",
        "        correct, total = 0, 0\n",
        "        with torch.no_grad():\n",
        "            for data, target in test_loader:\n",
        "                data, target = data.to(device), target.to(device)\n",
        "                outputs = model(data)\n",
        "                preds = outputs.argmax(dim=1)\n",
        "                total += target.size(0)\n",
        "                correct += (preds == target).sum().item()\n",
        "\n",
        "        acc = 100 * correct / total\n",
        "        current_lr = scheduler.get_last_lr()[0]\n",
        "        print(f\"Epoch {epoch}: LR={current_lr:.5f}, Loss={avg_loss:.4f}, Accuracy={acc:.2f}%\")\n"
      ],
      "metadata": {
        "id": "0Brq3QwN1iKs"
      },
      "execution_count": 50,
      "outputs": []
    },
    {
      "cell_type": "code",
      "source": [
        "transform = transforms.Compose([\n",
        "    transforms.ToTensor(),\n",
        "    transforms.Normalize((0.1307,), (0.3081,))\n",
        "])\n",
        "\n",
        "train_loader = DataLoader(\n",
        "    datasets.MNIST('./data', train=True, download=True, transform=transform),\n",
        "    batch_size=128, shuffle=True\n",
        ")\n",
        "\n",
        "\n",
        "test_loader = DataLoader(\n",
        "    datasets.MNIST('./data', train=False, download=True, transform=transform),\n",
        "    batch_size=1000, shuffle=False\n",
        ")\n",
        "\n",
        "train_and_test(model, train_loader, test_loader, epochs=20, lr=0.01)"
      ],
      "metadata": {
        "colab": {
          "base_uri": "https://localhost:8080/"
        },
        "id": "62JRybGt1lKw",
        "outputId": "300ed882-d69c-4e79-82d9-ba5f8d3f1b4c"
      },
      "execution_count": null,
      "outputs": [
        {
          "output_type": "stream",
          "name": "stdout",
          "text": [
            "Epoch 1: LR=0.01044, Loss=0.0121, Accuracy=98.17%\n",
            "Epoch 2: LR=0.02802, Loss=0.0108, Accuracy=98.20%\n",
            "Epoch 3: LR=0.05203, Loss=0.0113, Accuracy=98.25%\n",
            "Epoch 4: LR=0.07603, Loss=0.0119, Accuracy=98.11%\n",
            "Epoch 5: LR=0.09359, Loss=0.0115, Accuracy=98.01%\n",
            "Epoch 6: LR=0.10000, Loss=0.0122, Accuracy=98.18%\n",
            "Epoch 7: LR=0.09874, Loss=0.0114, Accuracy=98.06%\n",
            "Epoch 8: LR=0.09504, Loss=0.0114, Accuracy=98.22%\n",
            "Epoch 9: LR=0.08908, Loss=0.0106, Accuracy=98.04%\n",
            "Epoch 10: LR=0.08116, Loss=0.0106, Accuracy=98.18%\n",
            "Epoch 11: LR=0.07167, Loss=0.0102, Accuracy=98.04%\n",
            "Epoch 12: LR=0.06110, Loss=0.0097, Accuracy=98.18%\n",
            "Epoch 13: LR=0.04998, Loss=0.0096, Accuracy=98.08%\n",
            "Epoch 14: LR=0.03885, Loss=0.0090, Accuracy=98.16%\n",
            "Epoch 15: LR=0.02828, Loss=0.0080, Accuracy=98.20%\n",
            "Epoch 16: LR=0.01881, Loss=0.0076, Accuracy=98.16%\n"
          ]
        }
      ]
    },
    {
      "cell_type": "code",
      "source": [],
      "metadata": {
        "id": "BaiaO1Af1nFP"
      },
      "execution_count": null,
      "outputs": []
    }
  ]
}